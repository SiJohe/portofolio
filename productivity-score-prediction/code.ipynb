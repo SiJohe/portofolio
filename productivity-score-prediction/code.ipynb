{
 "cells": [
  {
   "cell_type": "code",
   "execution_count": 42,
   "id": "a99ce209",
   "metadata": {},
   "outputs": [],
   "source": [
    "import pandas as pd\n",
    "import numpy as np\n",
    "import seaborn as sns\n",
    "from scipy.stats import mannwhitneyu, kruskal\n",
    "from matplotlib import pyplot as plt\n",
    "from sklearn.preprocessing import OneHotEncoder, RobustScaler\n",
    "from sklearn.model_selection import train_test_split\n",
    "\n",
    "import keras\n",
    "import keras_tuner as kt\n",
    "import tensorflow as tf\n",
    "from tensorflow.keras.layers import Dense, Input\n",
    "from tensorflow.keras.models import Sequential, Model\n",
    "from keras.metrics import RootMeanSquaredError"
   ]
  },
  {
   "cell_type": "markdown",
   "id": "eeda4668",
   "metadata": {},
   "source": [
    "Link Video: https://binusianorg-my.sharepoint.com/personal/johensen_charles_binus_ac_id/_layouts/15/guestaccess.aspx?share=EepEczy-pjFGsh8MhNITCUwBNtnJ7LMeY9Q0FQPLoSJh3w   \n",
    "Link Folder: https://binusianorg-my.sharepoint.com/personal/johensen_charles_binus_ac_id/_layouts/15/guestaccess.aspx?share=EnriT-kuN2tAnjgrBOSAKYgBiBjtUdp1MCF-wavXbsJaGw&e=pdtttc "
   ]
  },
  {
   "cell_type": "markdown",
   "id": "94fb1a53",
   "metadata": {},
   "source": [
    "Goals: Memprediksi productivity score dari setiap tim di sebuah perusahaan produsen pakaian"
   ]
  },
  {
   "cell_type": "markdown",
   "id": "16946178",
   "metadata": {},
   "source": [
    "## A. EDA"
   ]
  },
  {
   "cell_type": "code",
   "execution_count": 43,
   "id": "00486117",
   "metadata": {},
   "outputs": [],
   "source": [
    "df = pd.read_parquet(\"dataset_1B.parquet\")"
   ]
  },
  {
   "cell_type": "code",
   "execution_count": 44,
   "id": "75201381",
   "metadata": {},
   "outputs": [],
   "source": [
    "df.duplicated().sum()\n",
    "df = df.drop_duplicates().reset_index(drop=True)"
   ]
  },
  {
   "cell_type": "markdown",
   "id": "0d1f9982",
   "metadata": {},
   "source": [
    "Menghapus data yang duplikat"
   ]
  },
  {
   "cell_type": "code",
   "execution_count": 45,
   "id": "1eab14df",
   "metadata": {},
   "outputs": [
    {
     "name": "stdout",
     "output_type": "stream",
     "text": [
      "<class 'pandas.core.frame.DataFrame'>\n",
      "RangeIndex: 1197 entries, 0 to 1196\n",
      "Data columns (total 13 columns):\n",
      " #   Column              Non-Null Count  Dtype  \n",
      "---  ------              --------------  -----  \n",
      " 0   date                1197 non-null   object \n",
      " 1   quarter             1197 non-null   object \n",
      " 2   day                 1197 non-null   object \n",
      " 3   Team Code           1197 non-null   int64  \n",
      " 4   smv                 1197 non-null   float64\n",
      " 5   wip                 691 non-null    float64\n",
      " 6   over_time           1197 non-null   int64  \n",
      " 7   incentive           1197 non-null   int64  \n",
      " 8   idle_time           1197 non-null   float64\n",
      " 9   idle_men            1197 non-null   int64  \n",
      " 10  no_of_style_change  1197 non-null   int64  \n",
      " 11  no_of_workers       1197 non-null   float64\n",
      " 12  productivity_score  1197 non-null   float64\n",
      "dtypes: float64(5), int64(5), object(3)\n",
      "memory usage: 121.7+ KB\n"
     ]
    }
   ],
   "source": [
    "df.info()"
   ]
  },
  {
   "cell_type": "markdown",
   "id": "d040c807",
   "metadata": {},
   "source": [
    "Terdapat 13 kolom dan 1197 baris data pada file, kita dapat melihat bahwa data pada kolom wip hanya 691, artinya banyak missing value pada kolom tersebut"
   ]
  },
  {
   "cell_type": "markdown",
   "id": "04a5b969",
   "metadata": {},
   "source": [
    "- date: Date of the assessment\n",
    "- day: Day of the Week\n",
    "- quarter: The quarter of the year when the data was recorded (e.g., Quarter1, Quarter2)\n",
    "- Team Code: A unique identifier for the team.\n",
    "- smv: Standard Minute Value, a measure of the time allocated for a task.\n",
    "- wip: Work In Progress, the number of products that are unfinished.\n",
    "- over_time: The amount of overtime worked, measured in minutes.\n",
    "- incentive: The incentive provided to the workers, measured in USD.\n",
    "- idle_time: The amount of time workers were idle, measured in minutes.\n",
    "- idle_men: The number of workers who were idle.\n",
    "- no_of_style_change: The number of style changes that occurred.\n",
    "- no_of_workers: The total number of workers.\n",
    "- productivity_score: The productivity score of the team, measured as a percentage."
   ]
  },
  {
   "cell_type": "code",
   "execution_count": 46,
   "id": "3c5cb827",
   "metadata": {},
   "outputs": [
    {
     "data": {
      "text/html": [
       "<div>\n",
       "<style scoped>\n",
       "    .dataframe tbody tr th:only-of-type {\n",
       "        vertical-align: middle;\n",
       "    }\n",
       "\n",
       "    .dataframe tbody tr th {\n",
       "        vertical-align: top;\n",
       "    }\n",
       "\n",
       "    .dataframe thead th {\n",
       "        text-align: right;\n",
       "    }\n",
       "</style>\n",
       "<table border=\"1\" class=\"dataframe\">\n",
       "  <thead>\n",
       "    <tr style=\"text-align: right;\">\n",
       "      <th></th>\n",
       "      <th>date</th>\n",
       "      <th>quarter</th>\n",
       "      <th>day</th>\n",
       "      <th>Team Code</th>\n",
       "      <th>smv</th>\n",
       "      <th>wip</th>\n",
       "      <th>over_time</th>\n",
       "      <th>incentive</th>\n",
       "      <th>idle_time</th>\n",
       "      <th>idle_men</th>\n",
       "      <th>no_of_style_change</th>\n",
       "      <th>no_of_workers</th>\n",
       "      <th>productivity_score</th>\n",
       "    </tr>\n",
       "  </thead>\n",
       "  <tbody>\n",
       "    <tr>\n",
       "      <th>0</th>\n",
       "      <td>1/1/2015</td>\n",
       "      <td>Quarter1</td>\n",
       "      <td>Thursday</td>\n",
       "      <td>8</td>\n",
       "      <td>26.16</td>\n",
       "      <td>1108.0</td>\n",
       "      <td>7080</td>\n",
       "      <td>98</td>\n",
       "      <td>0.0</td>\n",
       "      <td>0</td>\n",
       "      <td>0</td>\n",
       "      <td>59.0</td>\n",
       "      <td>94.073</td>\n",
       "    </tr>\n",
       "    <tr>\n",
       "      <th>1</th>\n",
       "      <td>1/1/2015</td>\n",
       "      <td>Quarter1</td>\n",
       "      <td>Thursday</td>\n",
       "      <td>1</td>\n",
       "      <td>3.94</td>\n",
       "      <td>NaN</td>\n",
       "      <td>960</td>\n",
       "      <td>0</td>\n",
       "      <td>0.0</td>\n",
       "      <td>0</td>\n",
       "      <td>0</td>\n",
       "      <td>8.0</td>\n",
       "      <td>88.650</td>\n",
       "    </tr>\n",
       "    <tr>\n",
       "      <th>2</th>\n",
       "      <td>1/1/2015</td>\n",
       "      <td>Quarter1</td>\n",
       "      <td>Thursday</td>\n",
       "      <td>11</td>\n",
       "      <td>11.41</td>\n",
       "      <td>968.0</td>\n",
       "      <td>3660</td>\n",
       "      <td>50</td>\n",
       "      <td>0.0</td>\n",
       "      <td>0</td>\n",
       "      <td>0</td>\n",
       "      <td>30.5</td>\n",
       "      <td>80.057</td>\n",
       "    </tr>\n",
       "    <tr>\n",
       "      <th>3</th>\n",
       "      <td>1/1/2015</td>\n",
       "      <td>Quarter1</td>\n",
       "      <td>Thursday</td>\n",
       "      <td>12</td>\n",
       "      <td>11.41</td>\n",
       "      <td>968.0</td>\n",
       "      <td>3660</td>\n",
       "      <td>50</td>\n",
       "      <td>0.0</td>\n",
       "      <td>0</td>\n",
       "      <td>0</td>\n",
       "      <td>30.5</td>\n",
       "      <td>80.057</td>\n",
       "    </tr>\n",
       "    <tr>\n",
       "      <th>4</th>\n",
       "      <td>1/1/2015</td>\n",
       "      <td>Quarter1</td>\n",
       "      <td>Thursday</td>\n",
       "      <td>6</td>\n",
       "      <td>25.90</td>\n",
       "      <td>1170.0</td>\n",
       "      <td>1920</td>\n",
       "      <td>50</td>\n",
       "      <td>0.0</td>\n",
       "      <td>0</td>\n",
       "      <td>0</td>\n",
       "      <td>56.0</td>\n",
       "      <td>80.038</td>\n",
       "    </tr>\n",
       "  </tbody>\n",
       "</table>\n",
       "</div>"
      ],
      "text/plain": [
       "       date   quarter       day  Team Code    smv     wip  over_time  \\\n",
       "0  1/1/2015  Quarter1  Thursday          8  26.16  1108.0       7080   \n",
       "1  1/1/2015  Quarter1  Thursday          1   3.94     NaN        960   \n",
       "2  1/1/2015  Quarter1  Thursday         11  11.41   968.0       3660   \n",
       "3  1/1/2015  Quarter1  Thursday         12  11.41   968.0       3660   \n",
       "4  1/1/2015  Quarter1  Thursday          6  25.90  1170.0       1920   \n",
       "\n",
       "   incentive  idle_time  idle_men  no_of_style_change  no_of_workers  \\\n",
       "0         98        0.0         0                   0           59.0   \n",
       "1          0        0.0         0                   0            8.0   \n",
       "2         50        0.0         0                   0           30.5   \n",
       "3         50        0.0         0                   0           30.5   \n",
       "4         50        0.0         0                   0           56.0   \n",
       "\n",
       "   productivity_score  \n",
       "0              94.073  \n",
       "1              88.650  \n",
       "2              80.057  \n",
       "3              80.057  \n",
       "4              80.038  "
      ]
     },
     "execution_count": 46,
     "metadata": {},
     "output_type": "execute_result"
    }
   ],
   "source": [
    "df.head()"
   ]
  },
  {
   "cell_type": "code",
   "execution_count": 47,
   "id": "24612d76",
   "metadata": {},
   "outputs": [
    {
     "data": {
      "text/plain": [
       "date                    0\n",
       "quarter                 0\n",
       "day                     0\n",
       "Team Code               0\n",
       "smv                     0\n",
       "wip                   506\n",
       "over_time               0\n",
       "incentive               0\n",
       "idle_time               0\n",
       "idle_men                0\n",
       "no_of_style_change      0\n",
       "no_of_workers           0\n",
       "productivity_score      0\n",
       "dtype: int64"
      ]
     },
     "execution_count": 47,
     "metadata": {},
     "output_type": "execute_result"
    }
   ],
   "source": [
    "missing_values = df.isnull().sum()\n",
    "missing_values"
   ]
  },
  {
   "cell_type": "markdown",
   "id": "93d41152",
   "metadata": {},
   "source": [
    "Missing value hanya terdapat di kolom wip (work in progress), dimana kolom tersebut berisi jumlah produk yang sedang dikerjakan.  \n",
    "Nilai yang NULL mencapai 42% dari keseluruhan data, \n",
    "- jika diimputasi akan menghasilkan sangat banyak data sintetis\n",
    "- jika null value dibuang akan membuang hampir setengah dari jumlah data, dimana jumlah data sangat penting untuk melakukan train ANN\n",
    "- jika kolom wip dibuang akan menyia-nyiakan 58% nilai wip yang ada, dimana work in progress akan berpengaruh pada produktivitas.  \n",
    "\n",
    "Oleh sebab itu, saya memutuskan untuk mengimputasi saja kolom wip ini dengan median wip, hal ini akan berakibat pada model yang lebih sulit untuk mempelajari kolom wip. Imputasi dilakukan nanti setelah split data"
   ]
  },
  {
   "cell_type": "code",
   "execution_count": 48,
   "id": "e8cdc659",
   "metadata": {},
   "outputs": [
    {
     "name": "stdout",
     "output_type": "stream",
     "text": [
      "Team Code\n",
      "8     109\n",
      "2     109\n",
      "4     105\n",
      "1     105\n",
      "9     104\n",
      "10    100\n",
      "12     99\n",
      "7      96\n",
      "3      95\n",
      "6      94\n",
      "5      93\n",
      "11     88\n",
      "Name: count, dtype: int64\n"
     ]
    }
   ],
   "source": [
    "print(df[\"Team Code\"].value_counts())"
   ]
  },
  {
   "cell_type": "markdown",
   "id": "fc92b111",
   "metadata": {},
   "source": [
    "Secara pembagian tim, terdapat 12 tim dengan data terbanyak adalah tim 8 dan tim 2 dengan 109 baris data, sedangkan data paling sedikit adalah tim 11 dengan 88 baris data"
   ]
  },
  {
   "cell_type": "code",
   "execution_count": 49,
   "id": "850798f0",
   "metadata": {},
   "outputs": [
    {
     "name": "stdout",
     "output_type": "stream",
     "text": [
      "date\n",
      "1/1/2015      12\n",
      "1/3/2015      12\n",
      "1/4/2015      12\n",
      "1/8/2015      12\n",
      "1/6/2015      12\n",
      "              ..\n",
      "2016-02-03     7\n",
      "2016-02-05     6\n",
      "2016-02-14     6\n",
      "2016-02-09     6\n",
      "2016-01-20     4\n",
      "Name: count, Length: 118, dtype: int64\n",
      "quarter\n",
      "Quarter1    360\n",
      "Quarter2    335\n",
      "Quarter4    248\n",
      "Quarter3    210\n",
      "Quarter5     44\n",
      "Name: count, dtype: int64\n",
      "day\n",
      "Wednesday    208\n",
      "Sunday       203\n",
      "Tuesday      201\n",
      "Thursday     199\n",
      "Monday       199\n",
      "Saturday     187\n",
      "Name: count, dtype: int64\n",
      "no_of_style_change\n",
      "0    1050\n",
      "1     114\n",
      "2      33\n",
      "Name: count, dtype: int64\n"
     ]
    }
   ],
   "source": [
    "other_col = ['Team Code', 'date', 'quarter', 'day', 'no_of_style_change']\n",
    "\n",
    "for i in other_col:\n",
    "    if (i == 'Team Code'): continue\n",
    "    print(df[i].value_counts())"
   ]
  },
  {
   "cell_type": "markdown",
   "id": "047dc7cf",
   "metadata": {},
   "source": [
    "Terdapat beberapa hal unik pada kolom categorical,  \n",
    "a. terdapat perbedaan format date pada kolom date, serta terdapat dua nilai tahun yaitu 2015 dan 2016  \n",
    "b. kolom quarter memiliki 5 nilai, padahal quarter biasanya merujuk pada satu dari 4 nilai yang sama bagian (normalnya sampai Q4)  \n",
    "c. tidak ada nilai 'friday' pada kolom day"
   ]
  },
  {
   "cell_type": "code",
   "execution_count": 50,
   "id": "237b51a7",
   "metadata": {},
   "outputs": [],
   "source": [
    "df['date'] = pd.to_datetime(df['date'], format='mixed')"
   ]
  },
  {
   "cell_type": "code",
   "execution_count": 51,
   "id": "440cad86",
   "metadata": {},
   "outputs": [
    {
     "data": {
      "text/html": [
       "<div>\n",
       "<style scoped>\n",
       "    .dataframe tbody tr th:only-of-type {\n",
       "        vertical-align: middle;\n",
       "    }\n",
       "\n",
       "    .dataframe tbody tr th {\n",
       "        vertical-align: top;\n",
       "    }\n",
       "\n",
       "    .dataframe thead th {\n",
       "        text-align: right;\n",
       "    }\n",
       "</style>\n",
       "<table border=\"1\" class=\"dataframe\">\n",
       "  <thead>\n",
       "    <tr style=\"text-align: right;\">\n",
       "      <th></th>\n",
       "      <th>date</th>\n",
       "      <th>day</th>\n",
       "      <th>quarter</th>\n",
       "    </tr>\n",
       "  </thead>\n",
       "  <tbody>\n",
       "    <tr>\n",
       "      <th>1117</th>\n",
       "      <td>2015-03-08</td>\n",
       "      <td>Sunday</td>\n",
       "      <td>Quarter2</td>\n",
       "    </tr>\n",
       "    <tr>\n",
       "      <th>853</th>\n",
       "      <td>2016-02-19</td>\n",
       "      <td>Thursday</td>\n",
       "      <td>Quarter3</td>\n",
       "    </tr>\n",
       "    <tr>\n",
       "      <th>1043</th>\n",
       "      <td>2016-03-02</td>\n",
       "      <td>Tuesday</td>\n",
       "      <td>Quarter1</td>\n",
       "    </tr>\n",
       "    <tr>\n",
       "      <th>1070</th>\n",
       "      <td>2015-03-05</td>\n",
       "      <td>Thursday</td>\n",
       "      <td>Quarter1</td>\n",
       "    </tr>\n",
       "    <tr>\n",
       "      <th>274</th>\n",
       "      <td>2016-01-15</td>\n",
       "      <td>Thursday</td>\n",
       "      <td>Quarter3</td>\n",
       "    </tr>\n",
       "  </tbody>\n",
       "</table>\n",
       "</div>"
      ],
      "text/plain": [
       "           date       day   quarter\n",
       "1117 2015-03-08    Sunday  Quarter2\n",
       "853  2016-02-19  Thursday  Quarter3\n",
       "1043 2016-03-02   Tuesday  Quarter1\n",
       "1070 2015-03-05  Thursday  Quarter1\n",
       "274  2016-01-15  Thursday  Quarter3"
      ]
     },
     "execution_count": 51,
     "metadata": {},
     "output_type": "execute_result"
    }
   ],
   "source": [
    "df_hari = df[[\"date\", \"day\", \"quarter\"]]\n",
    "df_hari.sample(n=5)"
   ]
  },
  {
   "cell_type": "markdown",
   "id": "59131a7b",
   "metadata": {},
   "source": [
    "Dapat dilihat bahwa kolom quarter tidak menunjukkan quarter dalam tahun (Q1, Q2, Q3, Q4), tetapi menandakan minggu dalam suatu bulan, sehingga lebih baik tidak digunakan karena tidak berarti."
   ]
  },
  {
   "cell_type": "code",
   "execution_count": 52,
   "id": "22a0731d",
   "metadata": {},
   "outputs": [
    {
     "data": {
      "image/png": "[encoded data removed]",
      "text/plain": [
       "<Figure size 1200x400 with 1 Axes>"
      ]
     },
     "metadata": {},
     "output_type": "display_data"
    }
   ],
   "source": [
    "plt.figure(figsize=(12, 4))\n",
    "plt.scatter(df['date'], df['productivity_score'], marker='o')\n",
    "plt.xlabel('Date')\n",
    "plt.ylabel('Productivity Score')\n",
    "plt.title('Productivity Over Time')\n",
    "plt.grid(True)\n",
    "plt.show()"
   ]
  },
  {
   "cell_type": "markdown",
   "id": "12e1b6e7",
   "metadata": {},
   "source": [
    "Dapat dilihat bahwa pada data, terdapat dua fokus waktu, yakni pada awal tahun 2015 dan awal tahun 2016.  \n",
    "Data juga tidak menunjukkan adanya korelasi antara tanggal dengan productivity, sehingga date perlu dipertimbangkan ulang sebagai input."
   ]
  },
  {
   "cell_type": "code",
   "execution_count": 53,
   "id": "32dca8e4",
   "metadata": {},
   "outputs": [
    {
     "name": "stdout",
     "output_type": "stream",
     "text": [
      "Statistic: 255342.0, p-value: 1.6305128859662328e-43\n"
     ]
    }
   ],
   "source": [
    "# uji whitney pada year\n",
    "df_2015 = df[df['date'].dt.year == 2015]\n",
    "df_2016 = df[df['date'].dt.year == 2016]\n",
    "\n",
    "stat, p_value = mannwhitneyu(df_2015['productivity_score'], df_2016['productivity_score'])\n",
    "\n",
    "print(f\"Statistic: {stat}, p-value: {p_value}\")"
   ]
  },
  {
   "cell_type": "markdown",
   "id": "71f2dd3c",
   "metadata": {},
   "source": [
    "Karena p value antara productivity_score tahun 2015 dan 2016 < 0.05, artinya terdapat perbedaan signifikan antara productivity_score pada 2-15 dan 2016 sehingga saya mempertahankan kolom date dalam bentuk year."
   ]
  },
  {
   "cell_type": "code",
   "execution_count": 54,
   "id": "e33fa0de",
   "metadata": {},
   "outputs": [],
   "source": [
    "df['date'] = df['date'].dt.year\n",
    "df = df.rename(columns={'date': 'year'})\n",
    "\n",
    "other_col.remove(\"date\")\n",
    "other_col.append(\"year\")"
   ]
  },
  {
   "cell_type": "markdown",
   "id": "f3235b26",
   "metadata": {},
   "source": [
    "mengganti date dengan tahun"
   ]
  },
  {
   "cell_type": "code",
   "execution_count": 55,
   "id": "b0c9329f",
   "metadata": {},
   "outputs": [
    {
     "name": "stdout",
     "output_type": "stream",
     "text": [
      "H-statistic: 4.4102042092519, p-value: 0.4919869392859063\n"
     ]
    }
   ],
   "source": [
    "# uji kruskal pada day\n",
    "grouped = [df[df['day'] == day]['productivity_score'] for day in df['day'].unique()]\n",
    "\n",
    "h_stat, p_value = kruskal(*grouped)\n",
    "\n",
    "print(f\"H-statistic: {h_stat}, p-value: {p_value}\")"
   ]
  },
  {
   "cell_type": "markdown",
   "id": "4f506e3a",
   "metadata": {},
   "source": [
    "pada kolom day, berdasarkan uji kruskal, p value > 0.05, artinya tidak terdapat perbedaan signifikan pada productivity score antara hari hari yang berbeda. Sehingga, kolom day dapat dihilangkan sebagai input"
   ]
  },
  {
   "cell_type": "code",
   "execution_count": 56,
   "id": "968468ec",
   "metadata": {},
   "outputs": [
    {
     "data": {
      "image/png": "[encoded data removed]",
      "text/plain": [
       "<Figure size 1000x300 with 2 Axes>"
      ]
     },
     "metadata": {},
     "output_type": "display_data"
    },
    {
     "name": "stdout",
     "output_type": "stream",
     "text": [
      "smv - Skewness: 0.40593673685873205\n",
      "smv - Kurtosis: -0.7953459064328552\n"
     ]
    },
    {
     "data": {
      "image/png": "[encoded data removed]",
      "text/plain": [
       "<Figure size 1000x300 with 2 Axes>"
      ]
     },
     "metadata": {},
     "output_type": "display_data"
    },
    {
     "name": "stdout",
     "output_type": "stream",
     "text": [
      "wip - Skewness: 9.741786273952965\n",
      "wip - Kurtosis: 101.70204486558634\n"
     ]
    },
    {
     "data": {
      "image/png": "[encoded data removed]",
      "text/plain": [
       "<Figure size 1000x300 with 2 Axes>"
      ]
     },
     "metadata": {},
     "output_type": "display_data"
    },
    {
     "name": "stdout",
     "output_type": "stream",
     "text": [
      "over_time - Skewness: 0.6732872952976457\n",
      "over_time - Kurtosis: 0.4243642959188558\n"
     ]
    },
    {
     "data": {
      "image/png": "[encoded data removed]",
      "text/plain": [
       "<Figure size 1000x300 with 2 Axes>"
      ]
     },
     "metadata": {},
     "output_type": "display_data"
    },
    {
     "name": "stdout",
     "output_type": "stream",
     "text": [
      "incentive - Skewness: 15.790746016958247\n",
      "incentive - Kurtosis: 299.0324620996891\n"
     ]
    },
    {
     "data": {
      "image/png": "[encoded data removed]",
      "text/plain": [
       "<Figure size 1000x300 with 2 Axes>"
      ]
     },
     "metadata": {},
     "output_type": "display_data"
    },
    {
     "name": "stdout",
     "output_type": "stream",
     "text": [
      "idle_time - Skewness: 20.545425229670172\n",
      "idle_time - Kurtosis: 442.63816033937803\n"
     ]
    },
    {
     "data": {
      "image/png": "[encoded data removed]",
      "text/plain": [
       "<Figure size 1000x300 with 2 Axes>"
      ]
     },
     "metadata": {},
     "output_type": "display_data"
    },
    {
     "name": "stdout",
     "output_type": "stream",
     "text": [
      "idle_men - Skewness: 9.855079123524012\n",
      "idle_men - Kurtosis: 102.96286931944574\n"
     ]
    },
    {
     "data": {
      "image/png": "[encoded data removed]",
      "text/plain": [
       "<Figure size 1000x300 with 2 Axes>"
      ]
     },
     "metadata": {},
     "output_type": "display_data"
    },
    {
     "name": "stdout",
     "output_type": "stream",
     "text": [
      "no_of_workers - Skewness: -0.21058041534228544\n",
      "no_of_workers - Kurtosis: -1.367593541695826\n"
     ]
    }
   ],
   "source": [
    "def check_distribution_outliers(dataframe, numerical):\n",
    "    for col in numerical:\n",
    "        if (col == 'productivity_score'): continue\n",
    "        plt.figure(figsize=(10, 3))\n",
    "\n",
    "        plt.subplot(1, 2, 1)\n",
    "        sns.histplot(dataframe[col], bins=30)\n",
    "        plt.title(f'Histogram dari {col}')\n",
    "        \n",
    "        plt.subplot(1, 2, 2)\n",
    "        sns.boxplot(y=col, data=dataframe)\n",
    "        plt.title(f'Boxplot dari {col}')\n",
    "        \n",
    "        plt.show()\n",
    "\n",
    "        print(f'{col} - Skewness: {dataframe[col].skew()}')\n",
    "        print(f'{col} - Kurtosis: {dataframe[col].kurt()}')\n",
    "        \n",
    "num_col = list(df.columns)\n",
    "for i in other_col:\n",
    "    num_col.remove(i)\n",
    "check_distribution_outliers(df, num_col)"
   ]
  },
  {
   "cell_type": "markdown",
   "id": "d7da6b2a",
   "metadata": {},
   "source": [
    "Dapat dilihat bahwa tidak ada kolom yang histogramnya terlihat berdistribusi normal. Selain itu, pada boxplot, smv dan no_of_workers tidak memiliki outlier. Sedangkan kolom lainnya memiliki beberapa outlier. Namun, tidak semua outlier perlu dihilangkan.  \n",
    "- Pada kolom wip, terdapat beberapa extreme value dimana perbedaan nilainya sangat extreme dan tidak masuk akal ketika work in progress bernilai belasan ribu. Sehingga akan lebih baik jika dilakukan capping pada wip\n",
    "- Pada kolom over_time, hanya terdapat 1 outlier, sehingga dapat langsung dilakukan scaling pada over_time menggunakan RobustScaler karena tidak berdistribusi normal\n",
    "- Pada kolom incentive, idle_time, dan idle_men cukup masuk akal untuk bernilai besar karena akan berpengaruh pada productivity, sehingga tidak akan saya lakukan capping dan langsung scaling dengan RobustScaler (tidak berdistribusi normal)"
   ]
  },
  {
   "cell_type": "code",
   "execution_count": 57,
   "id": "2c7ee6bb",
   "metadata": {},
   "outputs": [
    {
     "name": "stdout",
     "output_type": "stream",
     "text": [
      "     year   quarter     day  Team Code    smv      wip  over_time  incentive  \\\n",
      "561  2015  Quarter1  Monday          1  22.94  16882.0       7020        113   \n",
      "563  2015  Quarter1  Monday          2  22.52  21385.0       7020         88   \n",
      "564  2015  Quarter1  Monday          3  22.52  21266.0       6840         70   \n",
      "565  2015  Quarter1  Monday         10  22.52  21540.0       6720         88   \n",
      "568  2015  Quarter1  Monday         12  15.26  12261.0       3600         63   \n",
      "569  2016  Quarter1  Monday          4  22.52  23122.0       5940         50   \n",
      "570  2016  Quarter1  Monday          9  29.12   8992.0       6960         55   \n",
      "572  2015  Quarter1  Monday         11  20.55   9792.0       6480         60   \n",
      "\n",
      "     idle_time  idle_men  no_of_style_change  no_of_workers  \\\n",
      "561        0.0         0                   0           58.5   \n",
      "563        0.0         0                   0           58.5   \n",
      "564        0.0         0                   0           57.0   \n",
      "565        0.0         0                   0           56.0   \n",
      "568        0.0         0                   0           35.0   \n",
      "569        0.0         0                   0           56.5   \n",
      "570        0.0         0                   0           58.0   \n",
      "572        0.0         0                   0           54.0   \n",
      "\n",
      "     productivity_score  \n",
      "561             100.060  \n",
      "563              90.016  \n",
      "564              90.014  \n",
      "565              90.013  \n",
      "568              80.040  \n",
      "569              80.039  \n",
      "570              79.996  \n",
      "572              70.040  \n"
     ]
    }
   ],
   "source": [
    "extreme_wip = df[df['wip'] > 5000]\n",
    "print(extreme_wip)"
   ]
  },
  {
   "cell_type": "markdown",
   "id": "7725467c",
   "metadata": {},
   "source": [
    "ketika work in progress sangat besar (outlier), nilai incentive dan overtime tetap tidak signifikan sehingga outlier pada wip mencurigakan dan lebih baik dilakukan capping."
   ]
  },
  {
   "cell_type": "markdown",
   "id": "ede56acb",
   "metadata": {},
   "source": [
    "#### Data akan displit terlebih dahulu sebelum discaling, winsorizing, atau imputasi data"
   ]
  },
  {
   "cell_type": "code",
   "execution_count": 58,
   "id": "ee971a18",
   "metadata": {},
   "outputs": [],
   "source": [
    "df_target = df[\"productivity_score\"]\n",
    "df_input = df[df.columns.drop([\"productivity_score\", \"quarter\", \"day\"])]\n",
    "\n",
    "X_train, X_temp, y_train, y_temp = train_test_split(df_input, df_target, test_size=0.3, random_state=42)\n",
    "\n",
    "X_val, X_test, y_val, y_test = train_test_split(X_temp, y_temp, test_size=2/3, random_state=42)\n"
   ]
  },
  {
   "cell_type": "markdown",
   "id": "dc7ad010",
   "metadata": {},
   "source": [
    "Saya memisahkan target dan input serta membuang beberapa kolom yakni date, quarter, dan day karena tidak berpengaruh kepada productivity score dalam kasus ini. Mungkin jika kasusnya mengidentifikasi pertumbuhan productivity atau productivity dalam jangka waktu tertentu, tiga kolom itu akan berguna. Namun, untuk kasus ini, saya akan mengabaikan kolom waktu.  \n",
    "\n",
    "Setelah itu, saya membagi data menjadi train, test, val dengan proporsi 70:20:10"
   ]
  },
  {
   "cell_type": "code",
   "execution_count": 59,
   "id": "ed9addf1",
   "metadata": {},
   "outputs": [],
   "source": [
    "Q1 = X_train['wip'].quantile(0.25)\n",
    "Q3 = X_test['wip'].quantile(0.75)\n",
    "IQR = Q3 - Q1\n",
    "\n",
    "upper_bound = Q3 + 1.5 * IQR\n",
    "\n",
    "X_train['wip'] = X_train['wip'].clip(upper=upper_bound)"
   ]
  },
  {
   "cell_type": "markdown",
   "id": "465fcca4",
   "metadata": {},
   "source": [
    "Saya melakukan winsorizing hanya pada nilai wip di atas upper_bound, karena wip sah saja untuk bernilai rendah.  \n",
    "X_test dan X_val tidak perlu dilakukan capping (winsorizing) karena pada dunia nyata, wip bisa saja berada di luar batasan"
   ]
  },
  {
   "cell_type": "code",
   "execution_count": 60,
   "id": "0762a228",
   "metadata": {},
   "outputs": [],
   "source": [
    "med_wip = X_train[\"wip\"].median()\n",
    "\n",
    "X_train[\"wip\"] = X_train[\"wip\"].fillna(med_wip)\n",
    "X_test[\"wip\"] = X_test[\"wip\"].fillna(med_wip)\n",
    "X_val[\"wip\"] = X_val[\"wip\"].fillna(med_wip)"
   ]
  },
  {
   "cell_type": "markdown",
   "id": "eeebaea2",
   "metadata": {},
   "source": [
    "Imputasi wip dilakukan dengan nilai median dari wip pada X_train sehingga model tidak mendapat bocoran data val dan test"
   ]
  },
  {
   "cell_type": "code",
   "execution_count": 61,
   "id": "bb56b2e6",
   "metadata": {},
   "outputs": [
    {
     "name": "stdout",
     "output_type": "stream",
     "text": [
      "<class 'pandas.core.frame.DataFrame'>\n",
      "Index: 837 entries, 213 to 1126\n",
      "Data columns (total 10 columns):\n",
      " #   Column              Non-Null Count  Dtype  \n",
      "---  ------              --------------  -----  \n",
      " 0   year                837 non-null    int32  \n",
      " 1   Team Code           837 non-null    int64  \n",
      " 2   smv                 837 non-null    float64\n",
      " 3   wip                 837 non-null    float64\n",
      " 4   over_time           837 non-null    int64  \n",
      " 5   incentive           837 non-null    int64  \n",
      " 6   idle_time           837 non-null    float64\n",
      " 7   idle_men            837 non-null    int64  \n",
      " 8   no_of_style_change  837 non-null    int64  \n",
      " 9   no_of_workers       837 non-null    float64\n",
      "dtypes: float64(4), int32(1), int64(5)\n",
      "memory usage: 68.7 KB\n"
     ]
    }
   ],
   "source": [
    "X_train.info()"
   ]
  },
  {
   "cell_type": "markdown",
   "id": "ce367bdb",
   "metadata": {},
   "source": [
    "Semua kolom sudah dalam bentuk numerik dan tidak ada missing value"
   ]
  },
  {
   "cell_type": "code",
   "execution_count": 62,
   "id": "35e9b40f",
   "metadata": {},
   "outputs": [],
   "source": [
    "rob_scaler = RobustScaler()\n",
    "\n",
    "num_col.remove(\"productivity_score\")\n",
    "\n",
    "X_train[num_col] = rob_scaler.fit_transform(X_train[num_col])\n",
    "X_test[num_col] = rob_scaler.transform(X_test[num_col])\n",
    "X_val[num_col] = rob_scaler.transform(X_val[num_col])"
   ]
  },
  {
   "cell_type": "markdown",
   "id": "35a43a95",
   "metadata": {},
   "source": [
    "Scaling semua numerical column dengan RobustScaler, tentunya X_test dan X_val menggunakan .transform supaya langsung discale dengan scaler yang sama pada X_train"
   ]
  },
  {
   "cell_type": "code",
   "execution_count": 63,
   "id": "14832dac",
   "metadata": {},
   "outputs": [],
   "source": [
    "x_team_code = X_train[['Team Code']]\n",
    "train_encoded = OneHotEncoder(sparse_output=False)\n",
    "\n",
    "train_data = pd.DataFrame(train_encoded.fit_transform(x_team_code), columns=train_encoded.get_feature_names_out())\n",
    "X_train = X_train.reset_index(drop=True)\n",
    "X_train_enc = pd.concat([X_train, train_data], axis=1)\n",
    "X_train_enc = X_train_enc.drop(columns=['Team Code'])\n",
    "\n",
    "x_team_code_test = X_test[['Team Code']]\n",
    "test_data = pd.DataFrame(train_encoded.transform(x_team_code_test), columns=train_encoded.get_feature_names_out())\n",
    "X_test = X_test.reset_index(drop=True)\n",
    "X_test_enc = pd.concat([X_test, test_data], axis=1)\n",
    "X_test_enc = X_test_enc.drop(columns=['Team Code'])\n",
    "\n",
    "x_team_code_val = X_val[['Team Code']]\n",
    "val_data = pd.DataFrame(train_encoded.transform(x_team_code_val), columns=train_encoded.get_feature_names_out())\n",
    "X_val = X_val.reset_index(drop=True)\n",
    "X_val_enc = pd.concat([X_val, val_data], axis=1)\n",
    "X_val_enc = X_val_enc.drop(columns=['Team Code'])"
   ]
  },
  {
   "cell_type": "markdown",
   "id": "39053727",
   "metadata": {},
   "source": [
    "encoding pada team code supaya tidak dalam bentuk ordinal scaler (1,2,3, dst) karena akan membuat model menilai bahwa team 12 > team 1, sehingga saya ubah menjadi bentuk one hot encoding yang lebih netral terhadap model"
   ]
  },
  {
   "cell_type": "code",
   "execution_count": 64,
   "id": "c0076610",
   "metadata": {},
   "outputs": [
    {
     "name": "stdout",
     "output_type": "stream",
     "text": [
      "<class 'pandas.core.frame.DataFrame'>\n",
      "RangeIndex: 837 entries, 0 to 836\n",
      "Data columns (total 21 columns):\n",
      " #   Column              Non-Null Count  Dtype  \n",
      "---  ------              --------------  -----  \n",
      " 0   year                837 non-null    int32  \n",
      " 1   smv                 837 non-null    float64\n",
      " 2   wip                 837 non-null    float64\n",
      " 3   over_time           837 non-null    float64\n",
      " 4   incentive           837 non-null    float64\n",
      " 5   idle_time           837 non-null    float64\n",
      " 6   idle_men            837 non-null    float64\n",
      " 7   no_of_style_change  837 non-null    int64  \n",
      " 8   no_of_workers       837 non-null    float64\n",
      " 9   Team Code_1         837 non-null    float64\n",
      " 10  Team Code_2         837 non-null    float64\n",
      " 11  Team Code_3         837 non-null    float64\n",
      " 12  Team Code_4         837 non-null    float64\n",
      " 13  Team Code_5         837 non-null    float64\n",
      " 14  Team Code_6         837 non-null    float64\n",
      " 15  Team Code_7         837 non-null    float64\n",
      " 16  Team Code_8         837 non-null    float64\n",
      " 17  Team Code_9         837 non-null    float64\n",
      " 18  Team Code_10        837 non-null    float64\n",
      " 19  Team Code_11        837 non-null    float64\n",
      " 20  Team Code_12        837 non-null    float64\n",
      "dtypes: float64(19), int32(1), int64(1)\n",
      "memory usage: 134.2 KB\n"
     ]
    }
   ],
   "source": [
    "X_train_enc.info()"
   ]
  },
  {
   "cell_type": "markdown",
   "id": "18b62e7e",
   "metadata": {},
   "source": [
    "## B. Baseline Model"
   ]
  },
  {
   "cell_type": "markdown",
   "id": "40ba45fd",
   "metadata": {},
   "source": [
    "#### Sequential"
   ]
  },
  {
   "cell_type": "code",
   "execution_count": 65,
   "id": "79687a53",
   "metadata": {},
   "outputs": [
    {
     "name": "stderr",
     "output_type": "stream",
     "text": [
      "c:\\Users\\hense\\anaconda3\\envs\\DeepLearning\\lib\\site-packages\\keras\\src\\layers\\core\\dense.py:87: UserWarning: Do not pass an `input_shape`/`input_dim` argument to a layer. When using Sequential models, prefer using an `Input(shape)` object as the first layer in the model instead.\n",
      "  super().__init__(activity_regularizer=activity_regularizer, **kwargs)\n"
     ]
    },
    {
     "data": {
      "text/html": [
       "<pre style=\"white-space:pre;overflow-x:auto;line-height:normal;font-family:Menlo,'DejaVu Sans Mono',consolas,'Courier New',monospace\"><span style=\"font-weight: bold\">Model: \"sequential\"</span>\n",
       "</pre>\n"
      ],
      "text/plain": [
       "\u001b[1mModel: \"sequential\"\u001b[0m\n"
      ]
     },
     "metadata": {},
     "output_type": "display_data"
    },
    {
     "data": {
      "text/html": [
       "<pre style=\"white-space:pre;overflow-x:auto;line-height:normal;font-family:Menlo,'DejaVu Sans Mono',consolas,'Courier New',monospace\">┏━━━━━━━━━━━━━━━━━━━━━━━━━━━━━━━━━┳━━━━━━━━━━━━━━━━━━━━━━━━┳━━━━━━━━━━━━━━━┓\n",
       "┃<span style=\"font-weight: bold\"> Layer (type)                    </span>┃<span style=\"font-weight: bold\"> Output Shape           </span>┃<span style=\"font-weight: bold\">       Param # </span>┃\n",
       "┡━━━━━━━━━━━━━━━━━━━━━━━━━━━━━━━━━╇━━━━━━━━━━━━━━━━━━━━━━━━╇━━━━━━━━━━━━━━━┩\n",
       "│ dense_13 (<span style=\"color: #0087ff; text-decoration-color: #0087ff\">Dense</span>)                │ (<span style=\"color: #00d7ff; text-decoration-color: #00d7ff\">None</span>, <span style=\"color: #00af00; text-decoration-color: #00af00\">42</span>)             │           <span style=\"color: #00af00; text-decoration-color: #00af00\">924</span> │\n",
       "├─────────────────────────────────┼────────────────────────┼───────────────┤\n",
       "│ dense_14 (<span style=\"color: #0087ff; text-decoration-color: #0087ff\">Dense</span>)                │ (<span style=\"color: #00d7ff; text-decoration-color: #00d7ff\">None</span>, <span style=\"color: #00af00; text-decoration-color: #00af00\">42</span>)             │         <span style=\"color: #00af00; text-decoration-color: #00af00\">1,806</span> │\n",
       "├─────────────────────────────────┼────────────────────────┼───────────────┤\n",
       "│ dense_15 (<span style=\"color: #0087ff; text-decoration-color: #0087ff\">Dense</span>)                │ (<span style=\"color: #00d7ff; text-decoration-color: #00d7ff\">None</span>, <span style=\"color: #00af00; text-decoration-color: #00af00\">42</span>)             │         <span style=\"color: #00af00; text-decoration-color: #00af00\">1,806</span> │\n",
       "├─────────────────────────────────┼────────────────────────┼───────────────┤\n",
       "│ dense_16 (<span style=\"color: #0087ff; text-decoration-color: #0087ff\">Dense</span>)                │ (<span style=\"color: #00d7ff; text-decoration-color: #00d7ff\">None</span>, <span style=\"color: #00af00; text-decoration-color: #00af00\">1</span>)              │            <span style=\"color: #00af00; text-decoration-color: #00af00\">43</span> │\n",
       "└─────────────────────────────────┴────────────────────────┴───────────────┘\n",
       "</pre>\n"
      ],
      "text/plain": [
       "┏━━━━━━━━━━━━━━━━━━━━━━━━━━━━━━━━━┳━━━━━━━━━━━━━━━━━━━━━━━━┳━━━━━━━━━━━━━━━┓\n",
       "┃\u001b[1m \u001b[0m\u001b[1mLayer (type)                   \u001b[0m\u001b[1m \u001b[0m┃\u001b[1m \u001b[0m\u001b[1mOutput Shape          \u001b[0m\u001b[1m \u001b[0m┃\u001b[1m \u001b[0m\u001b[1m      Param #\u001b[0m\u001b[1m \u001b[0m┃\n",
       "┡━━━━━━━━━━━━━━━━━━━━━━━━━━━━━━━━━╇━━━━━━━━━━━━━━━━━━━━━━━━╇━━━━━━━━━━━━━━━┩\n",
       "│ dense_13 (\u001b[38;5;33mDense\u001b[0m)                │ (\u001b[38;5;45mNone\u001b[0m, \u001b[38;5;34m42\u001b[0m)             │           \u001b[38;5;34m924\u001b[0m │\n",
       "├─────────────────────────────────┼────────────────────────┼───────────────┤\n",
       "│ dense_14 (\u001b[38;5;33mDense\u001b[0m)                │ (\u001b[38;5;45mNone\u001b[0m, \u001b[38;5;34m42\u001b[0m)             │         \u001b[38;5;34m1,806\u001b[0m │\n",
       "├─────────────────────────────────┼────────────────────────┼───────────────┤\n",
       "│ dense_15 (\u001b[38;5;33mDense\u001b[0m)                │ (\u001b[38;5;45mNone\u001b[0m, \u001b[38;5;34m42\u001b[0m)             │         \u001b[38;5;34m1,806\u001b[0m │\n",
       "├─────────────────────────────────┼────────────────────────┼───────────────┤\n",
       "│ dense_16 (\u001b[38;5;33mDense\u001b[0m)                │ (\u001b[38;5;45mNone\u001b[0m, \u001b[38;5;34m1\u001b[0m)              │            \u001b[38;5;34m43\u001b[0m │\n",
       "└─────────────────────────────────┴────────────────────────┴───────────────┘\n"
      ]
     },
     "metadata": {},
     "output_type": "display_data"
    },
    {
     "data": {
      "text/html": [
       "<pre style=\"white-space:pre;overflow-x:auto;line-height:normal;font-family:Menlo,'DejaVu Sans Mono',consolas,'Courier New',monospace\"><span style=\"font-weight: bold\"> Total params: </span><span style=\"color: #00af00; text-decoration-color: #00af00\">4,579</span> (17.89 KB)\n",
       "</pre>\n"
      ],
      "text/plain": [
       "\u001b[1m Total params: \u001b[0m\u001b[38;5;34m4,579\u001b[0m (17.89 KB)\n"
      ]
     },
     "metadata": {},
     "output_type": "display_data"
    },
    {
     "data": {
      "text/html": [
       "<pre style=\"white-space:pre;overflow-x:auto;line-height:normal;font-family:Menlo,'DejaVu Sans Mono',consolas,'Courier New',monospace\"><span style=\"font-weight: bold\"> Trainable params: </span><span style=\"color: #00af00; text-decoration-color: #00af00\">4,579</span> (17.89 KB)\n",
       "</pre>\n"
      ],
      "text/plain": [
       "\u001b[1m Trainable params: \u001b[0m\u001b[38;5;34m4,579\u001b[0m (17.89 KB)\n"
      ]
     },
     "metadata": {},
     "output_type": "display_data"
    },
    {
     "data": {
      "text/html": [
       "<pre style=\"white-space:pre;overflow-x:auto;line-height:normal;font-family:Menlo,'DejaVu Sans Mono',consolas,'Courier New',monospace\"><span style=\"font-weight: bold\"> Non-trainable params: </span><span style=\"color: #00af00; text-decoration-color: #00af00\">0</span> (0.00 B)\n",
       "</pre>\n"
      ],
      "text/plain": [
       "\u001b[1m Non-trainable params: \u001b[0m\u001b[38;5;34m0\u001b[0m (0.00 B)\n"
      ]
     },
     "metadata": {},
     "output_type": "display_data"
    },
    {
     "name": "stdout",
     "output_type": "stream",
     "text": [
      "None\n"
     ]
    }
   ],
   "source": [
    "# Sequential Model\n",
    "sequential_model = Sequential([\n",
    "    Dense(2 * 21, activation='relu', input_shape=(21,)),\n",
    "    Dense(2 * 21, activation='relu'),\n",
    "    Dense(2 * 21, activation='relu'),\n",
    "    Dense(1)\n",
    "])\n",
    "\n",
    "sequential_model.compile(optimizer='adam', loss='mse', metrics=[RootMeanSquaredError(), 'mae', 'mape'])\n",
    "print(sequential_model.summary())"
   ]
  },
  {
   "cell_type": "markdown",
   "id": "bbba9033",
   "metadata": {},
   "source": [
    "Sequential model dengan 2 hidden layer masing masing berisi 42 neuron (2 kali lipat input) dengan output layer tanpa fungsi aktivasi (karena regresi)  \n",
    "optimizer menggunakan adam supaya cepat konvergen dan loss dilihat dari nilai mse dengan metrics lainnya rmse, mae, dan mape"
   ]
  },
  {
   "cell_type": "code",
   "execution_count": 66,
   "id": "c90a1d8b",
   "metadata": {},
   "outputs": [
    {
     "name": "stdout",
     "output_type": "stream",
     "text": [
      "Epoch 1/10\n"
     ]
    },
    {
     "name": "stdout",
     "output_type": "stream",
     "text": [
      "\u001b[1m27/27\u001b[0m \u001b[32m━━━━━━━━━━━━━━━━━━━━\u001b[0m\u001b[37m\u001b[0m \u001b[1m1s\u001b[0m 10ms/step - loss: 519.6339 - mae: 17.9930 - mape: 31.8590 - root_mean_squared_error: 22.7155 - val_loss: 467.1318 - val_mae: 15.5612 - val_mape: 31.8831 - val_root_mean_squared_error: 21.6132\n",
      "Epoch 2/10\n",
      "\u001b[1m27/27\u001b[0m \u001b[32m━━━━━━━━━━━━━━━━━━━━\u001b[0m\u001b[37m\u001b[0m \u001b[1m0s\u001b[0m 4ms/step - loss: 342.5508 - mae: 14.1959 - mape: 25.4100 - root_mean_squared_error: 18.4832 - val_loss: 326.9146 - val_mae: 13.5059 - val_mape: 25.7883 - val_root_mean_squared_error: 18.0808\n",
      "Epoch 3/10\n",
      "\u001b[1m27/27\u001b[0m \u001b[32m━━━━━━━━━━━━━━━━━━━━\u001b[0m\u001b[37m\u001b[0m \u001b[1m0s\u001b[0m 4ms/step - loss: 305.7527 - mae: 13.5904 - mape: 23.8983 - root_mean_squared_error: 17.4830 - val_loss: 333.6281 - val_mae: 14.7448 - val_mape: 25.6653 - val_root_mean_squared_error: 18.2655\n",
      "Epoch 4/10\n",
      "\u001b[1m27/27\u001b[0m \u001b[32m━━━━━━━━━━━━━━━━━━━━\u001b[0m\u001b[37m\u001b[0m \u001b[1m0s\u001b[0m 5ms/step - loss: 330.9796 - mae: 14.6211 - mape: 24.6828 - root_mean_squared_error: 18.1830 - val_loss: 508.2068 - val_mae: 16.5685 - val_mape: 33.6880 - val_root_mean_squared_error: 22.5434\n",
      "Epoch 5/10\n",
      "\u001b[1m27/27\u001b[0m \u001b[32m━━━━━━━━━━━━━━━━━━━━\u001b[0m\u001b[37m\u001b[0m \u001b[1m0s\u001b[0m 4ms/step - loss: 417.5791 - mae: 16.0793 - mape: 28.4001 - root_mean_squared_error: 20.4201 - val_loss: 327.3482 - val_mae: 13.2941 - val_mape: 25.7184 - val_root_mean_squared_error: 18.0928\n",
      "Epoch 6/10\n",
      "\u001b[1m27/27\u001b[0m \u001b[32m━━━━━━━━━━━━━━━━━━━━\u001b[0m\u001b[37m\u001b[0m \u001b[1m0s\u001b[0m 4ms/step - loss: 335.4416 - mae: 13.8328 - mape: 25.7715 - root_mean_squared_error: 18.3073 - val_loss: 323.1331 - val_mae: 13.4744 - val_mape: 25.6191 - val_root_mean_squared_error: 17.9759\n",
      "Epoch 7/10\n",
      "\u001b[1m27/27\u001b[0m \u001b[32m━━━━━━━━━━━━━━━━━━━━\u001b[0m\u001b[37m\u001b[0m \u001b[1m0s\u001b[0m 4ms/step - loss: 306.9284 - mae: 13.9915 - mape: 23.6527 - root_mean_squared_error: 17.5142 - val_loss: 328.5467 - val_mae: 13.2698 - val_mape: 25.7814 - val_root_mean_squared_error: 18.1259\n",
      "Epoch 8/10\n",
      "\u001b[1m27/27\u001b[0m \u001b[32m━━━━━━━━━━━━━━━━━━━━\u001b[0m\u001b[37m\u001b[0m \u001b[1m0s\u001b[0m 5ms/step - loss: 312.0356 - mae: 13.5793 - mape: 24.4971 - root_mean_squared_error: 17.6589 - val_loss: 337.9013 - val_mae: 14.9897 - val_mape: 25.7123 - val_root_mean_squared_error: 18.3821\n",
      "Epoch 9/10\n",
      "\u001b[1m27/27\u001b[0m \u001b[32m━━━━━━━━━━━━━━━━━━━━\u001b[0m\u001b[37m\u001b[0m \u001b[1m0s\u001b[0m 4ms/step - loss: 334.7208 - mae: 14.3844 - mape: 24.9428 - root_mean_squared_error: 18.2911 - val_loss: 367.3441 - val_mae: 13.5273 - val_mape: 27.4691 - val_root_mean_squared_error: 19.1662\n",
      "Epoch 10/10\n",
      "\u001b[1m27/27\u001b[0m \u001b[32m━━━━━━━━━━━━━━━━━━━━\u001b[0m\u001b[37m\u001b[0m \u001b[1m0s\u001b[0m 3ms/step - loss: 334.4239 - mae: 14.3790 - mape: 25.1508 - root_mean_squared_error: 18.2712 - val_loss: 330.8077 - val_mae: 13.2860 - val_mape: 25.8939 - val_root_mean_squared_error: 18.1881\n"
     ]
    }
   ],
   "source": [
    "history_seq = sequential_model.fit(X_train_enc, y_train, epochs=10, validation_data=(X_val_enc, y_val))"
   ]
  },
  {
   "cell_type": "markdown",
   "id": "df20673a",
   "metadata": {},
   "source": [
    "fit data dengan validasi data menggunakan X_val"
   ]
  },
  {
   "cell_type": "code",
   "execution_count": 67,
   "id": "846bcfeb",
   "metadata": {},
   "outputs": [
    {
     "name": "stdout",
     "output_type": "stream",
     "text": [
      "\u001b[1m8/8\u001b[0m \u001b[32m━━━━━━━━━━━━━━━━━━━━\u001b[0m\u001b[37m\u001b[0m \u001b[1m0s\u001b[0m 3ms/step - loss: 596.1127 - mae: 14.3009 - mape: 24.5337 - root_mean_squared_error: 23.9460  \n",
      "MSE : 402.6420\n",
      "RMSE : 20.0659\n",
      "MAE : 13.1110\n",
      "MAPE : 22.8614\n"
     ]
    }
   ],
   "source": [
    "seq_metrics = sequential_model.evaluate(X_test_enc, y_test)\n",
    "title_metrics = [\"MSE\", \"RMSE\", \"MAE\", \"MAPE\"]\n",
    "for i in range(4):\n",
    "    print(f'{title_metrics[i]} : {seq_metrics[i]:.4f}')"
   ]
  },
  {
   "cell_type": "markdown",
   "id": "5c719ef2",
   "metadata": {},
   "source": [
    "sekilas dari metrics baseline sequential model, terlihat bahwa error masih cukup tinggi, misalnya MAPE 22.8%, RMSE 20, dll"
   ]
  },
  {
   "cell_type": "markdown",
   "id": "5224d9dd",
   "metadata": {},
   "source": [
    "#### Functional"
   ]
  },
  {
   "cell_type": "code",
   "execution_count": 68,
   "id": "bc812648",
   "metadata": {},
   "outputs": [],
   "source": [
    "# Functional Model\n",
    "input_layer = Input(shape=(21,))\n",
    "\n",
    "hidden_layer1 = Dense(64, activation='relu')(input_layer)\n",
    "hidden_layer2 = Dense(64, activation='relu')(hidden_layer1)\n",
    "hidden_layer3 = Dense(42, activation='relu')(hidden_layer2)\n",
    "\n",
    "output_layer = Dense(1)(hidden_layer3)\n",
    "\n",
    "functional_model = Model(inputs=input_layer, outputs=output_layer)\n",
    "functional_model.compile(optimizer='adam', loss='mse', metrics=[RootMeanSquaredError(), 'mae', 'mape'])"
   ]
  },
  {
   "cell_type": "markdown",
   "id": "50ed13ca",
   "metadata": {},
   "source": [
    "Baseline model dari functional model, terdapat 3 hidden layer dengan 64 neuron pada hidden layer 1 dan 2 serta 42 neuron pada hidden layer 3"
   ]
  },
  {
   "cell_type": "code",
   "execution_count": 69,
   "id": "f7ef738b",
   "metadata": {},
   "outputs": [
    {
     "name": "stdout",
     "output_type": "stream",
     "text": [
      "Epoch 1/10\n",
      "\u001b[1m27/27\u001b[0m \u001b[32m━━━━━━━━━━━━━━━━━━━━\u001b[0m\u001b[37m\u001b[0m \u001b[1m1s\u001b[0m 9ms/step - loss: 21676.1523 - mae: 117.8092 - mape: 173.2054 - root_mean_squared_error: 139.6871 - val_loss: 469.4961 - val_mae: 18.7714 - val_mape: 28.5111 - val_root_mean_squared_error: 21.6679\n",
      "Epoch 2/10\n",
      "\u001b[1m27/27\u001b[0m \u001b[32m━━━━━━━━━━━━━━━━━━━━\u001b[0m\u001b[37m\u001b[0m \u001b[1m0s\u001b[0m 3ms/step - loss: 666.8000 - mae: 21.2436 - mape: 35.7863 - root_mean_squared_error: 25.7506 - val_loss: 344.4638 - val_mae: 13.5770 - val_mape: 26.2376 - val_root_mean_squared_error: 18.5597\n",
      "Epoch 3/10\n",
      "\u001b[1m27/27\u001b[0m \u001b[32m━━━━━━━━━━━━━━━━━━━━\u001b[0m\u001b[37m\u001b[0m \u001b[1m0s\u001b[0m 3ms/step - loss: 337.5114 - mae: 13.8617 - mape: 24.9523 - root_mean_squared_error: 18.3484 - val_loss: 367.1496 - val_mae: 13.7380 - val_mape: 27.4239 - val_root_mean_squared_error: 19.1611\n",
      "Epoch 4/10\n",
      "\u001b[1m27/27\u001b[0m \u001b[32m━━━━━━━━━━━━━━━━━━━━\u001b[0m\u001b[37m\u001b[0m \u001b[1m0s\u001b[0m 3ms/step - loss: 344.7780 - mae: 13.9392 - mape: 26.1447 - root_mean_squared_error: 18.5502 - val_loss: 344.6031 - val_mae: 13.5435 - val_mape: 26.3439 - val_root_mean_squared_error: 18.5635\n",
      "Epoch 5/10\n",
      "\u001b[1m27/27\u001b[0m \u001b[32m━━━━━━━━━━━━━━━━━━━━\u001b[0m\u001b[37m\u001b[0m \u001b[1m0s\u001b[0m 3ms/step - loss: 297.2057 - mae: 13.4044 - mape: 23.4708 - root_mean_squared_error: 17.2345 - val_loss: 332.5430 - val_mae: 14.1513 - val_mape: 25.8962 - val_root_mean_squared_error: 18.2358\n",
      "Epoch 6/10\n",
      "\u001b[1m27/27\u001b[0m \u001b[32m━━━━━━━━━━━━━━━━━━━━\u001b[0m\u001b[37m\u001b[0m \u001b[1m0s\u001b[0m 3ms/step - loss: 323.3351 - mae: 14.0472 - mape: 25.0102 - root_mean_squared_error: 17.9762 - val_loss: 335.9785 - val_mae: 13.6149 - val_mape: 26.0605 - val_root_mean_squared_error: 18.3297\n",
      "Epoch 7/10\n",
      "\u001b[1m27/27\u001b[0m \u001b[32m━━━━━━━━━━━━━━━━━━━━\u001b[0m\u001b[37m\u001b[0m \u001b[1m0s\u001b[0m 3ms/step - loss: 307.0278 - mae: 13.7058 - mape: 23.8945 - root_mean_squared_error: 17.5136 - val_loss: 361.8324 - val_mae: 15.7932 - val_mape: 26.2939 - val_root_mean_squared_error: 19.0219\n",
      "Epoch 8/10\n",
      "\u001b[1m27/27\u001b[0m \u001b[32m━━━━━━━━━━━━━━━━━━━━\u001b[0m\u001b[37m\u001b[0m \u001b[1m0s\u001b[0m 3ms/step - loss: 318.2878 - mae: 14.2446 - mape: 24.2793 - root_mean_squared_error: 17.8261 - val_loss: 332.3034 - val_mae: 14.4450 - val_mape: 25.7145 - val_root_mean_squared_error: 18.2292\n",
      "Epoch 9/10\n",
      "\u001b[1m27/27\u001b[0m \u001b[32m━━━━━━━━━━━━━━━━━━━━\u001b[0m\u001b[37m\u001b[0m \u001b[1m0s\u001b[0m 3ms/step - loss: 325.1675 - mae: 14.3353 - mape: 23.6853 - root_mean_squared_error: 18.0250 - val_loss: 327.8996 - val_mae: 13.9151 - val_mape: 25.8241 - val_root_mean_squared_error: 18.1080\n",
      "Epoch 10/10\n",
      "\u001b[1m27/27\u001b[0m \u001b[32m━━━━━━━━━━━━━━━━━━━━\u001b[0m\u001b[37m\u001b[0m \u001b[1m0s\u001b[0m 3ms/step - loss: 321.8210 - mae: 14.3402 - mape: 24.7138 - root_mean_squared_error: 17.9353 - val_loss: 337.2104 - val_mae: 13.3835 - val_mape: 26.1197 - val_root_mean_squared_error: 18.3633\n"
     ]
    }
   ],
   "source": [
    "history_func = functional_model.fit(X_train_enc, y_train, epochs=10, validation_data=(X_val_enc, y_val))"
   ]
  },
  {
   "cell_type": "code",
   "execution_count": 70,
   "id": "3df5a0c9",
   "metadata": {},
   "outputs": [
    {
     "name": "stdout",
     "output_type": "stream",
     "text": [
      "\u001b[1m8/8\u001b[0m \u001b[32m━━━━━━━━━━━━━━━━━━━━\u001b[0m\u001b[37m\u001b[0m \u001b[1m0s\u001b[0m 3ms/step - loss: 602.0870 - mae: 14.3830 - mape: 24.8194 - root_mean_squared_error: 24.0886  \n",
      "MSE : 414.3026\n",
      "RMSE : 20.3544\n",
      "MAE : 13.3013\n",
      "MAPE : 23.3996\n"
     ]
    }
   ],
   "source": [
    "func_metrics = functional_model.evaluate(X_test_enc, y_test)\n",
    "for i in range(4):\n",
    "    print(f'{title_metrics[i]} : {func_metrics[i]:.4f}')"
   ]
  },
  {
   "cell_type": "markdown",
   "id": "1311cccb",
   "metadata": {},
   "source": [
    "## C. Hyperparameter Tuning"
   ]
  },
  {
   "cell_type": "code",
   "execution_count": null,
   "id": "c5e38f88",
   "metadata": {},
   "outputs": [],
   "source": [
    "def build_model(hp):\n",
    "    model = keras.Sequential()\n",
    "    \n",
    "    # Input layer (fixed input dimension)\n",
    "    model.add(keras.layers.InputLayer(input_shape=(21,)))\n",
    "    \n",
    "    # Tune number of layers (2-10)\n",
    "    num_layers = hp.Int('num_layers', 2, 10)\n",
    "    \n",
    "    # Tune number of neurons (options: 42, 84, 168, 336)\n",
    "    for i in range(num_layers):\n",
    "        model.add(keras.layers.Dense(\n",
    "            units=hp.Choice(f'units_{i}', [42, 84, 168, 336]), \n",
    "            activation='relu'\n",
    "        ))\n",
    "    \n",
    "    # Output layer (fixed)\n",
    "    model.add(keras.layers.Dense(1))\n",
    "    \n",
    "    model.compile(\n",
    "        optimizer='adam',\n",
    "        loss='mse',\n",
    "        metrics=[RootMeanSquaredError(), 'mae', 'mape']\n",
    "    )\n",
    "    return model\n",
    "\n",
    "def build_functional_model(hp):\n",
    "    input_dim = 21\n",
    "    inputs = Input(shape=(input_dim,))\n",
    "    x = inputs\n",
    "    \n",
    "    # Tune number of layers (2-10)\n",
    "    num_layers = hp.Int('num_layers', 2, 10)\n",
    "    \n",
    "    # Tune neurons per layer (multiples of 42)\n",
    "    for i in range(num_layers):\n",
    "        x = Dense(\n",
    "            units=hp.Choice(f'units_{i}', [42, 84, 168, 336]), \n",
    "            activation='relu'\n",
    "        )(x)\n",
    "    \n",
    "    # Output layer\n",
    "    outputs = Dense(1)(x)\n",
    "    \n",
    "    model = Model(inputs, outputs)\n",
    "    model.compile(\n",
    "        optimizer='adam',\n",
    "        loss='mse',\n",
    "        metrics=[RootMeanSquaredError(), 'mae', 'mape']\n",
    "    )\n",
    "    return model"
   ]
  },
  {
   "cell_type": "markdown",
   "id": "65cbd9f4",
   "metadata": {},
   "source": [
    "Dari kedua baseline model, saya tuning hyperparameter:\n",
    "- jumlah hidden layer: 2 - 10 layer\n",
    "- jumlah neuron per layer:  42, 84, 168, 336\n",
    "\n",
    "optimizer, loss, dan metrics masih sama  \n",
    "Saya mencoba hyperparameter tuning dengan menggunakan RandomSearch() dari library keras_tuner"
   ]
  },
  {
   "cell_type": "markdown",
   "id": "96a04136",
   "metadata": {},
   "source": [
    "#### Tuning Sequential Model"
   ]
  },
  {
   "cell_type": "code",
   "execution_count": null,
   "id": "08d56d0a",
   "metadata": {},
   "outputs": [
    {
     "name": "stdout",
     "output_type": "stream",
     "text": [
      "Reloading Tuner from tuning\\best_seq_model\\tuner0.json\n"
     ]
    }
   ],
   "source": [
    "tuner = kt.RandomSearch(\n",
    "    build_model,\n",
    "    objective='val_loss',\n",
    "    max_trials=20, \n",
    "    executions_per_trial=2, \n",
    "    directory='tuning',\n",
    "    project_name='best_seq_model'\n",
    ")"
   ]
  },
  {
   "cell_type": "markdown",
   "id": "17d083b2",
   "metadata": {},
   "source": [
    "Melakukan tuning untuk sequential model dengan random search, sehingga tidak mengcover semua possibility tetapi hanya sebagian saja  \n",
    "Kemungkinan yang diambil yakni 20 set hyperparameter, dengan masing masing diuji 2 kali eksekusi"
   ]
  },
  {
   "cell_type": "code",
   "execution_count": 73,
   "id": "94272e96",
   "metadata": {},
   "outputs": [],
   "source": [
    "tuner.search(\n",
    "    X_train_enc, y_train,\n",
    "    epochs=20,\n",
    "    validation_data=(X_val_enc, y_val),\n",
    "    callbacks=[\n",
    "        keras.callbacks.EarlyStopping(patience=3)\n",
    "    ]\n",
    ")"
   ]
  },
  {
   "cell_type": "markdown",
   "id": "17721f3b",
   "metadata": {},
   "source": [
    "Tiap pengujian dijalankan 20 kali (20 epoch) dan akan berhenti ketika val_loss tidak membaik dalam 3 epoch"
   ]
  },
  {
   "cell_type": "code",
   "execution_count": 74,
   "id": "4460f424",
   "metadata": {},
   "outputs": [
    {
     "name": "stderr",
     "output_type": "stream",
     "text": [
      "c:\\Users\\hense\\anaconda3\\envs\\DeepLearning\\lib\\site-packages\\keras\\src\\layers\\core\\input_layer.py:27: UserWarning: Argument `input_shape` is deprecated. Use `shape` instead.\n",
      "  warnings.warn(\n"
     ]
    },
    {
     "data": {
      "text/html": [
       "<pre style=\"white-space:pre;overflow-x:auto;line-height:normal;font-family:Menlo,'DejaVu Sans Mono',consolas,'Courier New',monospace\"><span style=\"font-weight: bold\">Model: \"sequential_1\"</span>\n",
       "</pre>\n"
      ],
      "text/plain": [
       "\u001b[1mModel: \"sequential_1\"\u001b[0m\n"
      ]
     },
     "metadata": {},
     "output_type": "display_data"
    },
    {
     "data": {
      "text/html": [
       "<pre style=\"white-space:pre;overflow-x:auto;line-height:normal;font-family:Menlo,'DejaVu Sans Mono',consolas,'Courier New',monospace\">┏━━━━━━━━━━━━━━━━━━━━━━━━━━━━━━━━━┳━━━━━━━━━━━━━━━━━━━━━━━━┳━━━━━━━━━━━━━━━┓\n",
       "┃<span style=\"font-weight: bold\"> Layer (type)                    </span>┃<span style=\"font-weight: bold\"> Output Shape           </span>┃<span style=\"font-weight: bold\">       Param # </span>┃\n",
       "┡━━━━━━━━━━━━━━━━━━━━━━━━━━━━━━━━━╇━━━━━━━━━━━━━━━━━━━━━━━━╇━━━━━━━━━━━━━━━┩\n",
       "│ dense_21 (<span style=\"color: #0087ff; text-decoration-color: #0087ff\">Dense</span>)                │ (<span style=\"color: #00d7ff; text-decoration-color: #00d7ff\">None</span>, <span style=\"color: #00af00; text-decoration-color: #00af00\">168</span>)            │         <span style=\"color: #00af00; text-decoration-color: #00af00\">3,696</span> │\n",
       "├─────────────────────────────────┼────────────────────────┼───────────────┤\n",
       "│ dense_22 (<span style=\"color: #0087ff; text-decoration-color: #0087ff\">Dense</span>)                │ (<span style=\"color: #00d7ff; text-decoration-color: #00d7ff\">None</span>, <span style=\"color: #00af00; text-decoration-color: #00af00\">336</span>)            │        <span style=\"color: #00af00; text-decoration-color: #00af00\">56,784</span> │\n",
       "├─────────────────────────────────┼────────────────────────┼───────────────┤\n",
       "│ dense_23 (<span style=\"color: #0087ff; text-decoration-color: #0087ff\">Dense</span>)                │ (<span style=\"color: #00d7ff; text-decoration-color: #00d7ff\">None</span>, <span style=\"color: #00af00; text-decoration-color: #00af00\">1</span>)              │           <span style=\"color: #00af00; text-decoration-color: #00af00\">337</span> │\n",
       "└─────────────────────────────────┴────────────────────────┴───────────────┘\n",
       "</pre>\n"
      ],
      "text/plain": [
       "┏━━━━━━━━━━━━━━━━━━━━━━━━━━━━━━━━━┳━━━━━━━━━━━━━━━━━━━━━━━━┳━━━━━━━━━━━━━━━┓\n",
       "┃\u001b[1m \u001b[0m\u001b[1mLayer (type)                   \u001b[0m\u001b[1m \u001b[0m┃\u001b[1m \u001b[0m\u001b[1mOutput Shape          \u001b[0m\u001b[1m \u001b[0m┃\u001b[1m \u001b[0m\u001b[1m      Param #\u001b[0m\u001b[1m \u001b[0m┃\n",
       "┡━━━━━━━━━━━━━━━━━━━━━━━━━━━━━━━━━╇━━━━━━━━━━━━━━━━━━━━━━━━╇━━━━━━━━━━━━━━━┩\n",
       "│ dense_21 (\u001b[38;5;33mDense\u001b[0m)                │ (\u001b[38;5;45mNone\u001b[0m, \u001b[38;5;34m168\u001b[0m)            │         \u001b[38;5;34m3,696\u001b[0m │\n",
       "├─────────────────────────────────┼────────────────────────┼───────────────┤\n",
       "│ dense_22 (\u001b[38;5;33mDense\u001b[0m)                │ (\u001b[38;5;45mNone\u001b[0m, \u001b[38;5;34m336\u001b[0m)            │        \u001b[38;5;34m56,784\u001b[0m │\n",
       "├─────────────────────────────────┼────────────────────────┼───────────────┤\n",
       "│ dense_23 (\u001b[38;5;33mDense\u001b[0m)                │ (\u001b[38;5;45mNone\u001b[0m, \u001b[38;5;34m1\u001b[0m)              │           \u001b[38;5;34m337\u001b[0m │\n",
       "└─────────────────────────────────┴────────────────────────┴───────────────┘\n"
      ]
     },
     "metadata": {},
     "output_type": "display_data"
    },
    {
     "data": {
      "text/html": [
       "<pre style=\"white-space:pre;overflow-x:auto;line-height:normal;font-family:Menlo,'DejaVu Sans Mono',consolas,'Courier New',monospace\"><span style=\"font-weight: bold\"> Total params: </span><span style=\"color: #00af00; text-decoration-color: #00af00\">60,817</span> (237.57 KB)\n",
       "</pre>\n"
      ],
      "text/plain": [
       "\u001b[1m Total params: \u001b[0m\u001b[38;5;34m60,817\u001b[0m (237.57 KB)\n"
      ]
     },
     "metadata": {},
     "output_type": "display_data"
    },
    {
     "data": {
      "text/html": [
       "<pre style=\"white-space:pre;overflow-x:auto;line-height:normal;font-family:Menlo,'DejaVu Sans Mono',consolas,'Courier New',monospace\"><span style=\"font-weight: bold\"> Trainable params: </span><span style=\"color: #00af00; text-decoration-color: #00af00\">60,817</span> (237.57 KB)\n",
       "</pre>\n"
      ],
      "text/plain": [
       "\u001b[1m Trainable params: \u001b[0m\u001b[38;5;34m60,817\u001b[0m (237.57 KB)\n"
      ]
     },
     "metadata": {},
     "output_type": "display_data"
    },
    {
     "data": {
      "text/html": [
       "<pre style=\"white-space:pre;overflow-x:auto;line-height:normal;font-family:Menlo,'DejaVu Sans Mono',consolas,'Courier New',monospace\"><span style=\"font-weight: bold\"> Non-trainable params: </span><span style=\"color: #00af00; text-decoration-color: #00af00\">0</span> (0.00 B)\n",
       "</pre>\n"
      ],
      "text/plain": [
       "\u001b[1m Non-trainable params: \u001b[0m\u001b[38;5;34m0\u001b[0m (0.00 B)\n"
      ]
     },
     "metadata": {},
     "output_type": "display_data"
    }
   ],
   "source": [
    "# Get best hyperparameters\n",
    "best_hp = tuner.get_best_hyperparameters()[0]\n",
    "\n",
    "# Build best model\n",
    "best_sequential = tuner.hypermodel.build(best_hp)\n",
    "\n",
    "# See the architecture\n",
    "best_sequential.summary()"
   ]
  },
  {
   "cell_type": "markdown",
   "id": "cc596c70",
   "metadata": {},
   "source": [
    "Best hyperparameter untuk sequential model yakni 2 hidden layer dengan 168 neuron pada hidden layer 1 dan 336 neuron pada hidden layer 2"
   ]
  },
  {
   "cell_type": "code",
   "execution_count": 75,
   "id": "36f2e836",
   "metadata": {},
   "outputs": [
    {
     "name": "stdout",
     "output_type": "stream",
     "text": [
      "Epoch 1/20\n",
      "\u001b[1m27/27\u001b[0m \u001b[32m━━━━━━━━━━━━━━━━━━━━\u001b[0m\u001b[37m\u001b[0m \u001b[1m1s\u001b[0m 10ms/step - loss: 5926.2866 - mae: 64.2477 - mape: 95.0805 - root_mean_squared_error: 74.4436 - val_loss: 862.5577 - val_mae: 24.0497 - val_mape: 46.1856 - val_root_mean_squared_error: 29.3693\n",
      "Epoch 2/20\n",
      "\u001b[1m27/27\u001b[0m \u001b[32m━━━━━━━━━━━━━━━━━━━━\u001b[0m\u001b[37m\u001b[0m \u001b[1m0s\u001b[0m 4ms/step - loss: 500.7340 - mae: 17.1351 - mape: 30.9729 - root_mean_squared_error: 22.1479 - val_loss: 396.9598 - val_mae: 13.9180 - val_mape: 28.5346 - val_root_mean_squared_error: 19.9238\n",
      "Epoch 3/20\n",
      "\u001b[1m27/27\u001b[0m \u001b[32m━━━━━━━━━━━━━━━━━━━━\u001b[0m\u001b[37m\u001b[0m \u001b[1m0s\u001b[0m 3ms/step - loss: 296.8802 - mae: 13.2563 - mape: 22.9494 - root_mean_squared_error: 17.2191 - val_loss: 327.5682 - val_mae: 13.7521 - val_mape: 25.8013 - val_root_mean_squared_error: 18.0988\n",
      "Epoch 4/20\n",
      "\u001b[1m27/27\u001b[0m \u001b[32m━━━━━━━━━━━━━━━━━━━━\u001b[0m\u001b[37m\u001b[0m \u001b[1m0s\u001b[0m 4ms/step - loss: 331.0037 - mae: 14.1835 - mape: 24.1883 - root_mean_squared_error: 18.1725 - val_loss: 536.2182 - val_mae: 17.2091 - val_mape: 34.8469 - val_root_mean_squared_error: 23.1564\n",
      "Epoch 5/20\n",
      "\u001b[1m27/27\u001b[0m \u001b[32m━━━━━━━━━━━━━━━━━━━━\u001b[0m\u001b[37m\u001b[0m \u001b[1m0s\u001b[0m 3ms/step - loss: 404.6779 - mae: 16.1792 - mape: 27.1828 - root_mean_squared_error: 20.0840 - val_loss: 326.8079 - val_mae: 14.2930 - val_mape: 25.5247 - val_root_mean_squared_error: 18.0778\n",
      "Epoch 6/20\n",
      "\u001b[1m27/27\u001b[0m \u001b[32m━━━━━━━━━━━━━━━━━━━━\u001b[0m\u001b[37m\u001b[0m \u001b[1m0s\u001b[0m 4ms/step - loss: 347.9073 - mae: 14.7888 - mape: 25.3412 - root_mean_squared_error: 18.6306 - val_loss: 799.6404 - val_mae: 25.4631 - val_mape: 34.8082 - val_root_mean_squared_error: 28.2779\n",
      "Epoch 7/20\n",
      "\u001b[1m27/27\u001b[0m \u001b[32m━━━━━━━━━━━━━━━━━━━━\u001b[0m\u001b[37m\u001b[0m \u001b[1m0s\u001b[0m 3ms/step - loss: 607.8919 - mae: 19.9660 - mape: 32.1104 - root_mean_squared_error: 24.5902 - val_loss: 455.1932 - val_mae: 18.6746 - val_mape: 28.3791 - val_root_mean_squared_error: 21.3353\n",
      "Epoch 8/20\n",
      "\u001b[1m27/27\u001b[0m \u001b[32m━━━━━━━━━━━━━━━━━━━━\u001b[0m\u001b[37m\u001b[0m \u001b[1m0s\u001b[0m 3ms/step - loss: 409.8586 - mae: 16.0590 - mape: 26.7234 - root_mean_squared_error: 20.2092 - val_loss: 321.8096 - val_mae: 14.0027 - val_mape: 25.4732 - val_root_mean_squared_error: 17.9391\n",
      "Epoch 9/20\n",
      "\u001b[1m27/27\u001b[0m \u001b[32m━━━━━━━━━━━━━━━━━━━━\u001b[0m\u001b[37m\u001b[0m \u001b[1m0s\u001b[0m 4ms/step - loss: 380.9678 - mae: 15.3500 - mape: 27.9382 - root_mean_squared_error: 19.4973 - val_loss: 320.9582 - val_mae: 13.8937 - val_mape: 25.5488 - val_root_mean_squared_error: 17.9153\n",
      "Epoch 10/20\n",
      "\u001b[1m27/27\u001b[0m \u001b[32m━━━━━━━━━━━━━━━━━━━━\u001b[0m\u001b[37m\u001b[0m \u001b[1m0s\u001b[0m 4ms/step - loss: 345.3409 - mae: 14.7796 - mape: 25.6747 - root_mean_squared_error: 18.5541 - val_loss: 350.9260 - val_mae: 15.6057 - val_mape: 26.1689 - val_root_mean_squared_error: 18.7330\n",
      "Epoch 11/20\n",
      "\u001b[1m27/27\u001b[0m \u001b[32m━━━━━━━━━━━━━━━━━━━━\u001b[0m\u001b[37m\u001b[0m \u001b[1m0s\u001b[0m 3ms/step - loss: 370.9272 - mae: 15.5221 - mape: 24.9850 - root_mean_squared_error: 19.2412 - val_loss: 601.0134 - val_mae: 18.6898 - val_mape: 37.2396 - val_root_mean_squared_error: 24.5156\n",
      "Epoch 12/20\n",
      "\u001b[1m27/27\u001b[0m \u001b[32m━━━━━━━━━━━━━━━━━━━━\u001b[0m\u001b[37m\u001b[0m \u001b[1m0s\u001b[0m 4ms/step - loss: 363.5934 - mae: 14.9962 - mape: 25.1681 - root_mean_squared_error: 19.0067 - val_loss: 348.5819 - val_mae: 13.4449 - val_mape: 26.6620 - val_root_mean_squared_error: 18.6703\n",
      "Epoch 13/20\n",
      "\u001b[1m27/27\u001b[0m \u001b[32m━━━━━━━━━━━━━━━━━━━━\u001b[0m\u001b[37m\u001b[0m \u001b[1m0s\u001b[0m 4ms/step - loss: 349.2018 - mae: 14.6576 - mape: 25.4906 - root_mean_squared_error: 18.6517 - val_loss: 328.4052 - val_mae: 14.3439 - val_mape: 25.8199 - val_root_mean_squared_error: 18.1220\n",
      "Epoch 14/20\n",
      "\u001b[1m27/27\u001b[0m \u001b[32m━━━━━━━━━━━━━━━━━━━━\u001b[0m\u001b[37m\u001b[0m \u001b[1m0s\u001b[0m 3ms/step - loss: 298.1603 - mae: 13.2563 - mape: 23.0745 - root_mean_squared_error: 17.2624 - val_loss: 330.5031 - val_mae: 14.3066 - val_mape: 25.8716 - val_root_mean_squared_error: 18.1797\n",
      "Epoch 15/20\n",
      "\u001b[1m27/27\u001b[0m \u001b[32m━━━━━━━━━━━━━━━━━━━━\u001b[0m\u001b[37m\u001b[0m \u001b[1m0s\u001b[0m 4ms/step - loss: 316.9028 - mae: 13.8720 - mape: 23.8549 - root_mean_squared_error: 17.7970 - val_loss: 432.3197 - val_mae: 14.6090 - val_mape: 29.8242 - val_root_mean_squared_error: 20.7923\n",
      "Epoch 16/20\n",
      "\u001b[1m27/27\u001b[0m \u001b[32m━━━━━━━━━━━━━━━━━━━━\u001b[0m\u001b[37m\u001b[0m \u001b[1m0s\u001b[0m 3ms/step - loss: 378.9884 - mae: 15.1299 - mape: 27.2454 - root_mean_squared_error: 19.4239 - val_loss: 387.5175 - val_mae: 16.8218 - val_mape: 27.0632 - val_root_mean_squared_error: 19.6855\n",
      "Epoch 17/20\n",
      "\u001b[1m27/27\u001b[0m \u001b[32m━━━━━━━━━━━━━━━━━━━━\u001b[0m\u001b[37m\u001b[0m \u001b[1m0s\u001b[0m 3ms/step - loss: 344.3552 - mae: 14.8659 - mape: 24.6784 - root_mean_squared_error: 18.5545 - val_loss: 335.0962 - val_mae: 14.2336 - val_mape: 25.9456 - val_root_mean_squared_error: 18.3056\n",
      "Epoch 18/20\n",
      "\u001b[1m27/27\u001b[0m \u001b[32m━━━━━━━━━━━━━━━━━━━━\u001b[0m\u001b[37m\u001b[0m \u001b[1m0s\u001b[0m 3ms/step - loss: 283.1692 - mae: 13.2623 - mape: 22.5360 - root_mean_squared_error: 16.8236 - val_loss: 364.5217 - val_mae: 13.6596 - val_mape: 26.9479 - val_root_mean_squared_error: 19.0925\n",
      "Epoch 19/20\n",
      "\u001b[1m27/27\u001b[0m \u001b[32m━━━━━━━━━━━━━━━━━━━━\u001b[0m\u001b[37m\u001b[0m \u001b[1m0s\u001b[0m 4ms/step - loss: 302.2685 - mae: 13.5597 - mape: 23.4877 - root_mean_squared_error: 17.3602 - val_loss: 612.1782 - val_mae: 22.1414 - val_mape: 31.5908 - val_root_mean_squared_error: 24.7422\n",
      "Epoch 20/20\n",
      "\u001b[1m27/27\u001b[0m \u001b[32m━━━━━━━━━━━━━━━━━━━━\u001b[0m\u001b[37m\u001b[0m \u001b[1m0s\u001b[0m 3ms/step - loss: 379.8969 - mae: 15.4964 - mape: 25.4321 - root_mean_squared_error: 19.4783 - val_loss: 353.6353 - val_mae: 15.4352 - val_mape: 26.3079 - val_root_mean_squared_error: 18.8052\n"
     ]
    }
   ],
   "source": [
    "history_best_seq = best_sequential.fit(\n",
    "    X_train_enc, y_train,\n",
    "    epochs=20,\n",
    "    validation_data=(X_val_enc, y_val),\n",
    ")"
   ]
  },
  {
   "cell_type": "markdown",
   "id": "1debacfe",
   "metadata": {},
   "source": [
    "Train best sequential model"
   ]
  },
  {
   "cell_type": "code",
   "execution_count": 76,
   "id": "7133745d",
   "metadata": {},
   "outputs": [
    {
     "name": "stdout",
     "output_type": "stream",
     "text": [
      "\u001b[1m8/8\u001b[0m \u001b[32m━━━━━━━━━━━━━━━━━━━━\u001b[0m\u001b[37m\u001b[0m \u001b[1m0s\u001b[0m 3ms/step - loss: 619.3698 - mae: 16.4781 - mape: 25.3568 - root_mean_squared_error: 24.5424  \n",
      "MSE : 462.6962\n",
      "RMSE : 21.5104\n",
      "MAE : 15.4844\n",
      "MAPE : 24.1927\n"
     ]
    }
   ],
   "source": [
    "best_seq_metrics = best_sequential.evaluate(X_test_enc, y_test)\n",
    "for i in range(4):\n",
    "    print(f'{title_metrics[i]} : {best_seq_metrics[i]:.4f}')"
   ]
  },
  {
   "cell_type": "markdown",
   "id": "ec6e4c2c",
   "metadata": {},
   "source": [
    "#### Tuning Functional Model"
   ]
  },
  {
   "cell_type": "code",
   "execution_count": 77,
   "id": "a077df74",
   "metadata": {},
   "outputs": [
    {
     "name": "stdout",
     "output_type": "stream",
     "text": [
      "Reloading Tuner from tuning\\best_func_model\\tuner0.json\n"
     ]
    }
   ],
   "source": [
    "functional_tuner = kt.RandomSearch(\n",
    "    build_functional_model,\n",
    "    objective='val_loss',\n",
    "    max_trials=20,\n",
    "    directory='tuning',\n",
    "    project_name='best_func_model'\n",
    ")"
   ]
  },
  {
   "cell_type": "markdown",
   "id": "5e629c75",
   "metadata": {},
   "source": [
    "random search untuk hyperparameter pada functional model, dengan mengambil 20 kemungkinan set dari hyperparameter"
   ]
  },
  {
   "cell_type": "code",
   "execution_count": 78,
   "id": "818c372c",
   "metadata": {},
   "outputs": [],
   "source": [
    "functional_tuner.search(\n",
    "    X_train_enc, y_train,\n",
    "    epochs=20,\n",
    "    validation_data=(X_val_enc, y_val),\n",
    "    callbacks=[\n",
    "        keras.callbacks.EarlyStopping(patience=3)\n",
    "    ]\n",
    ")"
   ]
  },
  {
   "cell_type": "code",
   "execution_count": 79,
   "id": "a21280a8",
   "metadata": {},
   "outputs": [
    {
     "data": {
      "text/html": [
       "<pre style=\"white-space:pre;overflow-x:auto;line-height:normal;font-family:Menlo,'DejaVu Sans Mono',consolas,'Courier New',monospace\"><span style=\"font-weight: bold\">Model: \"functional_7\"</span>\n",
       "</pre>\n"
      ],
      "text/plain": [
       "\u001b[1mModel: \"functional_7\"\u001b[0m\n"
      ]
     },
     "metadata": {},
     "output_type": "display_data"
    },
    {
     "data": {
      "text/html": [
       "<pre style=\"white-space:pre;overflow-x:auto;line-height:normal;font-family:Menlo,'DejaVu Sans Mono',consolas,'Courier New',monospace\">┏━━━━━━━━━━━━━━━━━━━━━━━━━━━━━━━━━┳━━━━━━━━━━━━━━━━━━━━━━━━┳━━━━━━━━━━━━━━━┓\n",
       "┃<span style=\"font-weight: bold\"> Layer (type)                    </span>┃<span style=\"font-weight: bold\"> Output Shape           </span>┃<span style=\"font-weight: bold\">       Param # </span>┃\n",
       "┡━━━━━━━━━━━━━━━━━━━━━━━━━━━━━━━━━╇━━━━━━━━━━━━━━━━━━━━━━━━╇━━━━━━━━━━━━━━━┩\n",
       "│ input_layer_5 (<span style=\"color: #0087ff; text-decoration-color: #0087ff\">InputLayer</span>)      │ (<span style=\"color: #00d7ff; text-decoration-color: #00d7ff\">None</span>, <span style=\"color: #00af00; text-decoration-color: #00af00\">21</span>)             │             <span style=\"color: #00af00; text-decoration-color: #00af00\">0</span> │\n",
       "├─────────────────────────────────┼────────────────────────┼───────────────┤\n",
       "│ dense_24 (<span style=\"color: #0087ff; text-decoration-color: #0087ff\">Dense</span>)                │ (<span style=\"color: #00d7ff; text-decoration-color: #00d7ff\">None</span>, <span style=\"color: #00af00; text-decoration-color: #00af00\">168</span>)            │         <span style=\"color: #00af00; text-decoration-color: #00af00\">3,696</span> │\n",
       "├─────────────────────────────────┼────────────────────────┼───────────────┤\n",
       "│ dense_25 (<span style=\"color: #0087ff; text-decoration-color: #0087ff\">Dense</span>)                │ (<span style=\"color: #00d7ff; text-decoration-color: #00d7ff\">None</span>, <span style=\"color: #00af00; text-decoration-color: #00af00\">42</span>)             │         <span style=\"color: #00af00; text-decoration-color: #00af00\">7,098</span> │\n",
       "├─────────────────────────────────┼────────────────────────┼───────────────┤\n",
       "│ dense_26 (<span style=\"color: #0087ff; text-decoration-color: #0087ff\">Dense</span>)                │ (<span style=\"color: #00d7ff; text-decoration-color: #00d7ff\">None</span>, <span style=\"color: #00af00; text-decoration-color: #00af00\">1</span>)              │            <span style=\"color: #00af00; text-decoration-color: #00af00\">43</span> │\n",
       "└─────────────────────────────────┴────────────────────────┴───────────────┘\n",
       "</pre>\n"
      ],
      "text/plain": [
       "┏━━━━━━━━━━━━━━━━━━━━━━━━━━━━━━━━━┳━━━━━━━━━━━━━━━━━━━━━━━━┳━━━━━━━━━━━━━━━┓\n",
       "┃\u001b[1m \u001b[0m\u001b[1mLayer (type)                   \u001b[0m\u001b[1m \u001b[0m┃\u001b[1m \u001b[0m\u001b[1mOutput Shape          \u001b[0m\u001b[1m \u001b[0m┃\u001b[1m \u001b[0m\u001b[1m      Param #\u001b[0m\u001b[1m \u001b[0m┃\n",
       "┡━━━━━━━━━━━━━━━━━━━━━━━━━━━━━━━━━╇━━━━━━━━━━━━━━━━━━━━━━━━╇━━━━━━━━━━━━━━━┩\n",
       "│ input_layer_5 (\u001b[38;5;33mInputLayer\u001b[0m)      │ (\u001b[38;5;45mNone\u001b[0m, \u001b[38;5;34m21\u001b[0m)             │             \u001b[38;5;34m0\u001b[0m │\n",
       "├─────────────────────────────────┼────────────────────────┼───────────────┤\n",
       "│ dense_24 (\u001b[38;5;33mDense\u001b[0m)                │ (\u001b[38;5;45mNone\u001b[0m, \u001b[38;5;34m168\u001b[0m)            │         \u001b[38;5;34m3,696\u001b[0m │\n",
       "├─────────────────────────────────┼────────────────────────┼───────────────┤\n",
       "│ dense_25 (\u001b[38;5;33mDense\u001b[0m)                │ (\u001b[38;5;45mNone\u001b[0m, \u001b[38;5;34m42\u001b[0m)             │         \u001b[38;5;34m7,098\u001b[0m │\n",
       "├─────────────────────────────────┼────────────────────────┼───────────────┤\n",
       "│ dense_26 (\u001b[38;5;33mDense\u001b[0m)                │ (\u001b[38;5;45mNone\u001b[0m, \u001b[38;5;34m1\u001b[0m)              │            \u001b[38;5;34m43\u001b[0m │\n",
       "└─────────────────────────────────┴────────────────────────┴───────────────┘\n"
      ]
     },
     "metadata": {},
     "output_type": "display_data"
    },
    {
     "data": {
      "text/html": [
       "<pre style=\"white-space:pre;overflow-x:auto;line-height:normal;font-family:Menlo,'DejaVu Sans Mono',consolas,'Courier New',monospace\"><span style=\"font-weight: bold\"> Total params: </span><span style=\"color: #00af00; text-decoration-color: #00af00\">10,837</span> (42.33 KB)\n",
       "</pre>\n"
      ],
      "text/plain": [
       "\u001b[1m Total params: \u001b[0m\u001b[38;5;34m10,837\u001b[0m (42.33 KB)\n"
      ]
     },
     "metadata": {},
     "output_type": "display_data"
    },
    {
     "data": {
      "text/html": [
       "<pre style=\"white-space:pre;overflow-x:auto;line-height:normal;font-family:Menlo,'DejaVu Sans Mono',consolas,'Courier New',monospace\"><span style=\"font-weight: bold\"> Trainable params: </span><span style=\"color: #00af00; text-decoration-color: #00af00\">10,837</span> (42.33 KB)\n",
       "</pre>\n"
      ],
      "text/plain": [
       "\u001b[1m Trainable params: \u001b[0m\u001b[38;5;34m10,837\u001b[0m (42.33 KB)\n"
      ]
     },
     "metadata": {},
     "output_type": "display_data"
    },
    {
     "data": {
      "text/html": [
       "<pre style=\"white-space:pre;overflow-x:auto;line-height:normal;font-family:Menlo,'DejaVu Sans Mono',consolas,'Courier New',monospace\"><span style=\"font-weight: bold\"> Non-trainable params: </span><span style=\"color: #00af00; text-decoration-color: #00af00\">0</span> (0.00 B)\n",
       "</pre>\n"
      ],
      "text/plain": [
       "\u001b[1m Non-trainable params: \u001b[0m\u001b[38;5;34m0\u001b[0m (0.00 B)\n"
      ]
     },
     "metadata": {},
     "output_type": "display_data"
    }
   ],
   "source": [
    "best_functional_hp = functional_tuner.get_best_hyperparameters()[0]\n",
    "best_functional = functional_tuner.hypermodel.build(best_functional_hp)\n",
    "best_functional.summary()"
   ]
  },
  {
   "cell_type": "markdown",
   "id": "d2d5a6c7",
   "metadata": {},
   "source": [
    "best parameternya yakni 2 hidden layer, dengan 168 neuron pada hidden layer 1 dan 42 neuron pada hidden layer 2"
   ]
  },
  {
   "cell_type": "code",
   "execution_count": 80,
   "id": "f8a7c1c6",
   "metadata": {},
   "outputs": [
    {
     "name": "stdout",
     "output_type": "stream",
     "text": [
      "Epoch 1/20\n",
      "\u001b[1m27/27\u001b[0m \u001b[32m━━━━━━━━━━━━━━━━━━━━\u001b[0m\u001b[37m\u001b[0m \u001b[1m1s\u001b[0m 9ms/step - loss: 34480.7383 - mae: 146.7898 - mape: 223.1952 - root_mean_squared_error: 175.3378 - val_loss: 1737.5834 - val_mae: 38.1145 - val_mape: 49.2614 - val_root_mean_squared_error: 41.6843\n",
      "Epoch 2/20\n",
      "\u001b[1m27/27\u001b[0m \u001b[32m━━━━━━━━━━━━━━━━━━━━\u001b[0m\u001b[37m\u001b[0m \u001b[1m0s\u001b[0m 3ms/step - loss: 924.0455 - mae: 25.2598 - mape: 39.3386 - root_mean_squared_error: 30.2085 - val_loss: 329.0703 - val_mae: 13.4459 - val_mape: 25.7999 - val_root_mean_squared_error: 18.1403\n",
      "Epoch 3/20\n",
      "\u001b[1m27/27\u001b[0m \u001b[32m━━━━━━━━━━━━━━━━━━━━\u001b[0m\u001b[37m\u001b[0m \u001b[1m0s\u001b[0m 3ms/step - loss: 340.0268 - mae: 14.0782 - mape: 25.4890 - root_mean_squared_error: 18.4260 - val_loss: 330.8257 - val_mae: 13.2682 - val_mape: 25.8037 - val_root_mean_squared_error: 18.1886\n",
      "Epoch 4/20\n",
      "\u001b[1m27/27\u001b[0m \u001b[32m━━━━━━━━━━━━━━━━━━━━\u001b[0m\u001b[37m\u001b[0m \u001b[1m0s\u001b[0m 3ms/step - loss: 326.4664 - mae: 14.4235 - mape: 24.7089 - root_mean_squared_error: 18.0598 - val_loss: 323.4616 - val_mae: 14.0840 - val_mape: 25.4530 - val_root_mean_squared_error: 17.9850\n",
      "Epoch 5/20\n",
      "\u001b[1m27/27\u001b[0m \u001b[32m━━━━━━━━━━━━━━━━━━━━\u001b[0m\u001b[37m\u001b[0m \u001b[1m0s\u001b[0m 3ms/step - loss: 314.4533 - mae: 13.8051 - mape: 24.1570 - root_mean_squared_error: 17.7282 - val_loss: 321.3482 - val_mae: 13.8782 - val_mape: 25.5133 - val_root_mean_squared_error: 17.9262\n",
      "Epoch 6/20\n",
      "\u001b[1m27/27\u001b[0m \u001b[32m━━━━━━━━━━━━━━━━━━━━\u001b[0m\u001b[37m\u001b[0m \u001b[1m0s\u001b[0m 4ms/step - loss: 300.7726 - mae: 13.6482 - mape: 24.0050 - root_mean_squared_error: 17.3410 - val_loss: 326.9040 - val_mae: 13.4358 - val_mape: 25.7875 - val_root_mean_squared_error: 18.0805\n",
      "Epoch 7/20\n",
      "\u001b[1m27/27\u001b[0m \u001b[32m━━━━━━━━━━━━━━━━━━━━\u001b[0m\u001b[37m\u001b[0m \u001b[1m0s\u001b[0m 3ms/step - loss: 305.4041 - mae: 13.4045 - mape: 24.0311 - root_mean_squared_error: 17.4731 - val_loss: 324.4953 - val_mae: 14.2456 - val_mape: 25.6468 - val_root_mean_squared_error: 18.0138\n",
      "Epoch 8/20\n",
      "\u001b[1m27/27\u001b[0m \u001b[32m━━━━━━━━━━━━━━━━━━━━\u001b[0m\u001b[37m\u001b[0m \u001b[1m0s\u001b[0m 5ms/step - loss: 298.8402 - mae: 13.5229 - mape: 24.1284 - root_mean_squared_error: 17.2704 - val_loss: 351.4384 - val_mae: 13.5003 - val_mape: 26.7971 - val_root_mean_squared_error: 18.7467\n",
      "Epoch 9/20\n",
      "\u001b[1m27/27\u001b[0m \u001b[32m━━━━━━━━━━━━━━━━━━━━\u001b[0m\u001b[37m\u001b[0m \u001b[1m0s\u001b[0m 3ms/step - loss: 316.3163 - mae: 13.9353 - mape: 25.2025 - root_mean_squared_error: 17.7707 - val_loss: 342.2474 - val_mae: 13.5178 - val_mape: 26.3706 - val_root_mean_squared_error: 18.4999\n",
      "Epoch 10/20\n",
      "\u001b[1m27/27\u001b[0m \u001b[32m━━━━━━━━━━━━━━━━━━━━\u001b[0m\u001b[37m\u001b[0m \u001b[1m0s\u001b[0m 3ms/step - loss: 301.9647 - mae: 13.2193 - mape: 23.6585 - root_mean_squared_error: 17.3756 - val_loss: 344.0732 - val_mae: 15.2349 - val_mape: 26.1042 - val_root_mean_squared_error: 18.5492\n",
      "Epoch 11/20\n",
      "\u001b[1m27/27\u001b[0m \u001b[32m━━━━━━━━━━━━━━━━━━━━\u001b[0m\u001b[37m\u001b[0m \u001b[1m0s\u001b[0m 4ms/step - loss: 303.8792 - mae: 13.5394 - mape: 23.6607 - root_mean_squared_error: 17.4243 - val_loss: 334.7141 - val_mae: 14.5631 - val_mape: 25.9239 - val_root_mean_squared_error: 18.2952\n",
      "Epoch 12/20\n",
      "\u001b[1m27/27\u001b[0m \u001b[32m━━━━━━━━━━━━━━━━━━━━\u001b[0m\u001b[37m\u001b[0m \u001b[1m0s\u001b[0m 3ms/step - loss: 304.2664 - mae: 13.8757 - mape: 23.3650 - root_mean_squared_error: 17.4388 - val_loss: 340.9091 - val_mae: 13.7800 - val_mape: 26.1551 - val_root_mean_squared_error: 18.4637\n",
      "Epoch 13/20\n",
      "\u001b[1m27/27\u001b[0m \u001b[32m━━━━━━━━━━━━━━━━━━━━\u001b[0m\u001b[37m\u001b[0m \u001b[1m0s\u001b[0m 4ms/step - loss: 295.2443 - mae: 13.5881 - mape: 23.7222 - root_mean_squared_error: 17.1792 - val_loss: 341.5293 - val_mae: 14.8038 - val_mape: 26.0452 - val_root_mean_squared_error: 18.4805\n",
      "Epoch 14/20\n",
      "\u001b[1m27/27\u001b[0m \u001b[32m━━━━━━━━━━━━━━━━━━━━\u001b[0m\u001b[37m\u001b[0m \u001b[1m0s\u001b[0m 4ms/step - loss: 281.9264 - mae: 13.2754 - mape: 22.6923 - root_mean_squared_error: 16.7810 - val_loss: 369.9580 - val_mae: 13.7163 - val_mape: 27.1111 - val_root_mean_squared_error: 19.2343\n",
      "Epoch 15/20\n",
      "\u001b[1m27/27\u001b[0m \u001b[32m━━━━━━━━━━━━━━━━━━━━\u001b[0m\u001b[37m\u001b[0m \u001b[1m0s\u001b[0m 3ms/step - loss: 294.9165 - mae: 13.3794 - mape: 23.3443 - root_mean_squared_error: 17.1548 - val_loss: 344.2331 - val_mae: 14.0624 - val_mape: 26.1234 - val_root_mean_squared_error: 18.5535\n",
      "Epoch 16/20\n",
      "\u001b[1m27/27\u001b[0m \u001b[32m━━━━━━━━━━━━━━━━━━━━\u001b[0m\u001b[37m\u001b[0m \u001b[1m0s\u001b[0m 3ms/step - loss: 307.7597 - mae: 13.5659 - mape: 24.4089 - root_mean_squared_error: 17.5376 - val_loss: 350.4742 - val_mae: 13.9140 - val_mape: 26.2626 - val_root_mean_squared_error: 18.7210\n",
      "Epoch 17/20\n",
      "\u001b[1m27/27\u001b[0m \u001b[32m━━━━━━━━━━━━━━━━━━━━\u001b[0m\u001b[37m\u001b[0m \u001b[1m0s\u001b[0m 4ms/step - loss: 281.3550 - mae: 13.2110 - mape: 23.0391 - root_mean_squared_error: 16.7674 - val_loss: 354.3456 - val_mae: 13.9040 - val_mape: 26.3385 - val_root_mean_squared_error: 18.8241\n",
      "Epoch 18/20\n",
      "\u001b[1m27/27\u001b[0m \u001b[32m━━━━━━━━━━━━━━━━━━━━\u001b[0m\u001b[37m\u001b[0m \u001b[1m0s\u001b[0m 3ms/step - loss: 297.1878 - mae: 13.1312 - mape: 23.1977 - root_mean_squared_error: 17.2239 - val_loss: 368.7679 - val_mae: 13.8017 - val_mape: 26.7428 - val_root_mean_squared_error: 19.2033\n",
      "Epoch 19/20\n",
      "\u001b[1m27/27\u001b[0m \u001b[32m━━━━━━━━━━━━━━━━━━━━\u001b[0m\u001b[37m\u001b[0m \u001b[1m0s\u001b[0m 4ms/step - loss: 289.3408 - mae: 13.4515 - mape: 23.2964 - root_mean_squared_error: 17.0022 - val_loss: 358.2881 - val_mae: 14.0419 - val_mape: 26.3113 - val_root_mean_squared_error: 18.9285\n",
      "Epoch 20/20\n",
      "\u001b[1m27/27\u001b[0m \u001b[32m━━━━━━━━━━━━━━━━━━━━\u001b[0m\u001b[37m\u001b[0m \u001b[1m0s\u001b[0m 4ms/step - loss: 271.3290 - mae: 12.7110 - mape: 22.1593 - root_mean_squared_error: 16.4440 - val_loss: 355.2431 - val_mae: 14.7713 - val_mape: 26.1867 - val_root_mean_squared_error: 18.8479\n"
     ]
    }
   ],
   "source": [
    "history_best_func = best_functional.fit(\n",
    "    X_train_enc, y_train,\n",
    "    epochs=20,\n",
    "    validation_data=(X_val_enc, y_val),\n",
    ")"
   ]
  },
  {
   "cell_type": "code",
   "execution_count": 81,
   "id": "1a820a27",
   "metadata": {},
   "outputs": [
    {
     "name": "stdout",
     "output_type": "stream",
     "text": [
      "\u001b[1m8/8\u001b[0m \u001b[32m━━━━━━━━━━━━━━━━━━━━\u001b[0m\u001b[37m\u001b[0m \u001b[1m0s\u001b[0m 4ms/step - loss: 605.4697 - mae: 15.4297 - mape: 24.6418 - root_mean_squared_error: 24.2244  \n",
      "MSE : 444.1021\n",
      "RMSE : 21.0737\n",
      "MAE : 14.4917\n",
      "MAPE : 23.5322\n"
     ]
    }
   ],
   "source": [
    "best_func_metrics = best_functional.evaluate(X_test_enc, y_test)\n",
    "for i in range(4):\n",
    "    print(f'{title_metrics[i]} : {best_func_metrics[i]:.4f}')"
   ]
  },
  {
   "cell_type": "markdown",
   "id": "976b7264",
   "metadata": {},
   "source": [
    "## D. Evaluasi"
   ]
  },
  {
   "cell_type": "code",
   "execution_count": 82,
   "id": "2b43ef98",
   "metadata": {},
   "outputs": [
    {
     "name": "stdout",
     "output_type": "stream",
     "text": [
      "         Base Sequential  Base Functional  Best Model Sequential  \\\n",
      "Metrics                                                            \n",
      "MSE           402.641998       414.302612             462.696228   \n",
      "RMSE           20.065941        20.354425              21.510374   \n",
      "MAE            13.111018        13.301312              15.484411   \n",
      "MAPE           22.861382        23.399622              24.192692   \n",
      "\n",
      "         Best Model Functional  \n",
      "Metrics                         \n",
      "MSE                 444.102142  \n",
      "RMSE                 21.073730  \n",
      "MAE                  14.491720  \n",
      "MAPE                 23.532246  \n"
     ]
    }
   ],
   "source": [
    "hasil_model = pd.DataFrame({\n",
    "    'Metrics': title_metrics,\n",
    "    'Base Sequential': seq_metrics,\n",
    "    'Base Functional': func_metrics,\n",
    "    'Best Model Sequential': best_seq_metrics,\n",
    "    'Best Model Functional': best_func_metrics\n",
    "})\n",
    "\n",
    "hasil_model.set_index('Metrics', inplace=True)\n",
    "print(hasil_model)"
   ]
  },
  {
   "cell_type": "markdown",
   "id": "64cb0df0",
   "metadata": {},
   "source": [
    "Nilai pada metrics menunjukkan nilai error, maka nilai yang lebih tinggi berarti performa yang lebih buruk.\n",
    "\n",
    "Jika dibandingkan, Error pada best model justru lebih tinggi dibandingkan dengan baseline modelnya  \n",
    "Kemungkinan terjadi kesalahan pada saat melakukan hyperparameter tuning dengan RandomSearch  \n",
    "Bisa juga terjadi karena hyperparameter di base model tidak masuk ke dalam RandomSearch, karena hanya mengambil 20 kemungkinan saja"
   ]
  },
  {
   "cell_type": "markdown",
   "id": "ba4f8a49",
   "metadata": {},
   "source": [
    "berikut adalah analisis dari model dengan performa yang lebih baik hingga lebih buruk\n",
    "\n",
    "Pada baseline model sequential:  \n",
    "1. root mean squared error = 20, artinya rata rata nilai error antara nilai productivity score sebenarnya dengan prediksi model sebesar 20, jika memberi penalti pada outlier atau prediksi yang nilainya melenceng jauh  \n",
    "2. mean absolute error = 13, nilai error antara productivity score sebenarnya dengan prediksi sebesar 13, tanpa memberi penalti lebih kepada prediksi yang melenceng jauh  \n",
    "3. mean absolute percentage error = 22.86, error antara productivity score sebenarnya dengan prediksi dalam bentuk persentase sebesar 22.86%  "
   ]
  },
  {
   "cell_type": "markdown",
   "id": "503c2340",
   "metadata": {},
   "source": [
    "Pada baseline model functional:  \n",
    "1. root mean squared error = 20.35, artinya rata rata nilai error antara nilai productivity score sebenarnya dengan prediksi model + penalti lebih sebesar 20.35  \n",
    "2. mean absolute error = 13.30, nilai error antara productivity score sebenarnya dengan prediksi sebesar 13.30, tanpa memberi tambahan penalti kepada prediksi yang melenceng jauh  \n",
    "3. mean absolute percentage error = 23.39, error antara productivity score sebenarnya dengan prediksi dalam bentuk persentase sebesar 23.39%  "
   ]
  },
  {
   "cell_type": "markdown",
   "id": "cd4cc43b",
   "metadata": {},
   "source": [
    "Pada best model functional (after tuning):  \n",
    "1. root mean squared error = 21.01, artinya rata rata nilai error antara nilai productivity score sebenarnya dengan prediksi model + penalti lebih sebesar 21.01  \n",
    "2. mean absolute error = 14.49, nilai error antara productivity score sebenarnya dengan prediksi sebesar 14.49, tanpa memberi penalti lebih kepada prediksi yang melenceng jauh.  \n",
    "3. mean absolute percentage error = 23.53, error antara productivity score sebenarnya dengan prediksi dalam bentuk persentase sebesar 23.53%  "
   ]
  },
  {
   "cell_type": "markdown",
   "id": "6475185d",
   "metadata": {},
   "source": [
    "Pada best model sequential (after tuning):  \n",
    "1. root mean squared error = 21.51, artinya rata rata nilai error antara nilai productivity score sebenarnya dengan prediksi model + penalti lebih sebesar 21.51  \n",
    "2. mean absolute error = 15.48, nilai error antara productivity score sebenarnya dengan prediksi sebesar 15.48, tanpa memberi penalti lebih kepada prediksi yang melenceng jauh  \n",
    "3. mean absolute percentage error = 24.19, error antara productivity score sebenarnya dengan prediksi dalam bentuk persentase sebesar 24.19%  "
   ]
  },
  {
   "cell_type": "markdown",
   "id": "cb5bee11",
   "metadata": {},
   "source": [
    "Kesimpulan: dari 4 model tersebut, model yang performanya paling baik adalah baseline dari sequential model. Namun, performa baseline sequential model itu sendiri belum bisa dikatakan bagus karena dari rmse yang bernilai 20, artinya perbedaan nilai antara prediksi dan aktual yakni 20 pada productivity score. Nilai ini cukup tinggi untuk productivity score yang nilainya mayoritas bernilai 65-85. Artinya, baseline sequential model pun belum memiliki performa yang baik untuk dideploy sebagai predictor productivity score pada setiap tim di perusahaan produsen pakaian."
   ]
  },
  {
   "cell_type": "code",
   "execution_count": 85,
   "id": "86008442",
   "metadata": {},
   "outputs": [
    {
     "data": {
      "text/plain": [
       "count    1197.000000\n",
       "mean       73.367040\n",
       "std        18.154945\n",
       "min      -100.000000\n",
       "25%        65.030000\n",
       "50%        77.333000\n",
       "75%        85.025000\n",
       "max       112.044000\n",
       "Name: productivity_score, dtype: float64"
      ]
     },
     "execution_count": 85,
     "metadata": {},
     "output_type": "execute_result"
    }
   ],
   "source": [
    "df['productivity_score'].describe()"
   ]
  },
  {
   "cell_type": "code",
   "execution_count": null,
   "id": "991c04f1",
   "metadata": {},
   "outputs": [],
   "source": []
  }
 ],
 "metadata": {
  "kernelspec": {
   "display_name": "DeepLearning",
   "language": "python",
   "name": "python3"
  },
  "language_info": {
   "codemirror_mode": {
    "name": "ipython",
    "version": 3
   },
   "file_extension": ".py",
   "mimetype": "text/x-python",
   "name": "python",
   "nbconvert_exporter": "python",
   "pygments_lexer": "ipython3",
   "version": "3.10.16"
  }
 },
 "nbformat": 4,
 "nbformat_minor": 5
}
